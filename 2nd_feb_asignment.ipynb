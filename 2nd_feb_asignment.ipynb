{
 "cells": [
  {
   "cell_type": "code",
   "execution_count": null,
   "id": "5b925ed4",
   "metadata": {},
   "outputs": [],
   "source": [
    "#question 1= use of while and for loop\n",
    "# for loop is used when we know how many times we have to run a loop.\n",
    "#while loop is used when we dont know how many times we have to run a loop.\n",
    "\n",
    "# for loop ex:\n",
    "\n",
    "for i in range (1,11):\n",
    "    print(i)\n",
    "    \n",
    "    \n",
    "# while loop example:\n",
    "i=0\n",
    "while i<100:\n",
    "    print(i)\n",
    "    i+=5"
   ]
  },
  {
   "cell_type": "code",
   "execution_count": null,
   "id": "72349fae",
   "metadata": {},
   "outputs": [],
   "source": [
    "#quest: 2\n",
    "# sum and product using for loop\n",
    "sum=0\n",
    "prod=1\n",
    "for i in range (1,11):\n",
    "    sum+=i\n",
    "    prod = prod*i\n",
    "print(sum,prod)\n",
    "\n",
    "i=1\n",
    "summ=0\n",
    "prodd=1\n",
    "while i<11:\n",
    "    summ+=i\n",
    "    prodd=prodd*i\n",
    "    i+=1\n",
    "print(summ,prodd)"
   ]
  },
  {
   "cell_type": "code",
   "execution_count": null,
   "id": "bbe1da49",
   "metadata": {},
   "outputs": [],
   "source": [
    "#question 3 \n",
    "\n",
    "unit= 310\n",
    "cost = 0\n",
    "for i in range (1,unit+1):\n",
    "    if i<=100:\n",
    "        cost = cost+4.5\n",
    "    elif i<=200:\n",
    "        cost = cost +6\n",
    "    elif i <= 300:\n",
    "        cost=cost+10\n",
    "    else:\n",
    "        cost+=20\n",
    "print(cost)"
   ]
  },
  {
   "cell_type": "code",
   "execution_count": null,
   "id": "ca3e647f",
   "metadata": {},
   "outputs": [],
   "source": [
    "#question 4\n",
    "\n",
    "lis = []\n",
    "for i in range (1,101):\n",
    "    lis.append(i)\n",
    "div_lis= []\n",
    "for i in lis:\n",
    "    cube = i**3\n",
    "    if cube%4==0 or cube%5==0:\n",
    "        div_lis.append(i)\n",
    "print(div_lis)"
   ]
  },
  {
   "cell_type": "code",
   "execution_count": null,
   "id": "f724be22",
   "metadata": {},
   "outputs": [],
   "source": [
    "#question 5\n",
    "\n",
    "sentence = \"I want to become a data scientist\"\n",
    "vowel = ['a','e','i','o','u']\n",
    "count = 0\n",
    "for i in sentence:\n",
    "    if i in vowel:\n",
    "        count+=1\n",
    "print(count)"
   ]
  }
 ],
 "metadata": {
  "kernelspec": {
   "display_name": "Python 3 (ipykernel)",
   "language": "python",
   "name": "python3"
  },
  "language_info": {
   "codemirror_mode": {
    "name": "ipython",
    "version": 3
   },
   "file_extension": ".py",
   "mimetype": "text/x-python",
   "name": "python",
   "nbconvert_exporter": "python",
   "pygments_lexer": "ipython3",
   "version": "3.9.13"
  }
 },
 "nbformat": 4,
 "nbformat_minor": 5
}
