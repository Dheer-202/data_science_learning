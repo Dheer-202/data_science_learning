{
 "cells": [
  {
   "cell_type": "code",
   "execution_count": 7,
   "id": "a97ff763",
   "metadata": {},
   "outputs": [],
   "source": [
    "import pandas as pd\n",
    "import seaborn as sns\n",
    "import matplotlib.pyplot as plt"
   ]
  },
  {
   "cell_type": "code",
   "execution_count": 12,
   "id": "caf391db",
   "metadata": {},
   "outputs": [],
   "source": [
    "import numpy as np"
   ]
  },
  {
   "cell_type": "code",
   "execution_count": 16,
   "id": "45f83853",
   "metadata": {},
   "outputs": [],
   "source": [
    "import scipy.stats as sp"
   ]
  },
  {
   "cell_type": "code",
   "execution_count": 26,
   "id": "e256685e",
   "metadata": {},
   "outputs": [
    {
     "name": "stdout",
     "output_type": "stream",
     "text": [
      "The pearson coefficient is 0.9894296497462018\n"
     ]
    }
   ],
   "source": [
    "#ANS 1\n",
    "amount_time = [1,2,3,4,4,5,6,6,7,7,7,8,9,10]\n",
    "score = [10,20,31,35,40,50,55,59,65,70,75,79,80,91]\n",
    "print('The pearson coefficient is',sp.pearsonr(amount_time,score)[0])"
   ]
  },
  {
   "cell_type": "code",
   "execution_count": 27,
   "id": "2564041b",
   "metadata": {},
   "outputs": [
    {
     "name": "stdout",
     "output_type": "stream",
     "text": [
      "The spearman coefficient value is 0.7155043127949274\n"
     ]
    }
   ],
   "source": [
    "#ANS 2\n",
    "amoumt_sleep = [4,4,5,6,6,7,7,8,8,8,9,9,9]\n",
    "satisfaction = [1,3,4,7,6,4,9,9,5,10,10,5,10]\n",
    "print('The spearman coefficient value is', sp.spearmanr(amoumt_sleep,satisfaction)[0])"
   ]
  },
  {
   "cell_type": "code",
   "execution_count": 70,
   "id": "69c037a5",
   "metadata": {},
   "outputs": [
    {
     "data": {
      "text/plain": [
       "PearsonRResult(statistic=0.06754797406284473, pvalue=0.6411521702733698)"
      ]
     },
     "execution_count": 70,
     "metadata": {},
     "output_type": "execute_result"
    }
   ],
   "source": [
    "#Ans 3\n",
    "li = [i for i in range(0,15)]\n",
    "hours =[]\n",
    "for i in range(50):\n",
    "    hours.append(np.random.choice(li))\n",
    "hours\n",
    "lis = np.linspace(16,25,9)\n",
    "bmi =[]\n",
    "for i in range(50):\n",
    "    bmi.append(np.random.choice(lis))\n",
    "sp.pearsonr(hours,bmi)"
   ]
  },
  {
   "cell_type": "code",
   "execution_count": 71,
   "id": "ee21a098",
   "metadata": {},
   "outputs": [
    {
     "name": "stdout",
     "output_type": "stream",
     "text": [
      "Spearman's correlation determines the strength and direction of the monotonic relationship between your two variables rather than the strength and direction of the linear relationship between your two variables, which is what Pearson's correlation determines\n"
     ]
    }
   ],
   "source": [
    "#Ans 4\n",
    "print(\"Spearman's correlation determines the strength and direction of the monotonic relationship between your two variables rather than the strength and direction of the linear relationship between your two variables, which is what Pearson's correlation determines\")"
   ]
  },
  {
   "cell_type": "code",
   "execution_count": null,
   "id": "a1c6625e",
   "metadata": {},
   "outputs": [],
   "source": []
  },
  {
   "cell_type": "code",
   "execution_count": null,
   "id": "852c36aa",
   "metadata": {},
   "outputs": [],
   "source": []
  },
  {
   "cell_type": "code",
   "execution_count": null,
   "id": "0849fd41",
   "metadata": {},
   "outputs": [],
   "source": []
  }
 ],
 "metadata": {
  "kernelspec": {
   "display_name": "Python 3 (ipykernel)",
   "language": "python",
   "name": "python3"
  },
  "language_info": {
   "codemirror_mode": {
    "name": "ipython",
    "version": 3
   },
   "file_extension": ".py",
   "mimetype": "text/x-python",
   "name": "python",
   "nbconvert_exporter": "python",
   "pygments_lexer": "ipython3",
   "version": "3.9.13"
  }
 },
 "nbformat": 4,
 "nbformat_minor": 5
}
