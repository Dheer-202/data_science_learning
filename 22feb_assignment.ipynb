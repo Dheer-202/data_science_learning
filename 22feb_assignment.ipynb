{
 "cells": [
  {
   "cell_type": "code",
   "execution_count": null,
   "id": "2800e152",
   "metadata": {},
   "outputs": [],
   "source": [
    "import pandas as pd"
   ]
  },
  {
   "cell_type": "code",
   "execution_count": null,
   "id": "9673c32d",
   "metadata": {},
   "outputs": [],
   "source": [
    "#ques 1\n",
    "ser = pd.Series((4,8,15,16,23,42))\n",
    "print(ser)"
   ]
  },
  {
   "cell_type": "code",
   "execution_count": null,
   "id": "ebd7b6da",
   "metadata": {},
   "outputs": [],
   "source": [
    "#quest 2\n",
    "a= [ i for i in range(1,101) if i%10==0]\n",
    "a= pd.Series(a)\n",
    "print(a)"
   ]
  },
  {
   "cell_type": "code",
   "execution_count": null,
   "id": "cd8e3bae",
   "metadata": {},
   "outputs": [],
   "source": [
    "#quest 3\n",
    "dic = {\n",
    "    'Name': ['Alice', 'Bob','Claire'],\n",
    "    'Age': [25,30,27],\n",
    "    'Gende0r': [\"Female\",\"Male\",\"Female\"]\n",
    "}\n",
    "df = pandas.DataFrame(dic)"
   ]
  },
  {
   "cell_type": "code",
   "execution_count": null,
   "id": "729b57ff",
   "metadata": {},
   "outputs": [],
   "source": [
    "#ques 4\n",
    "print(\"DataFrame is tabular representation of any data. It is different from Series as bieng a 2-D dimensional data while Series is 1-D representation of Data.\")"
   ]
  },
  {
   "cell_type": "code",
   "execution_count": null,
   "id": "9f8cbbae",
   "metadata": {},
   "outputs": [],
   "source": [
    "#quest 5\n",
    "print(\"Some Common Function to manipulate Data are pandas.iloc(), pandas.head(), pandas.tail(), pandas.drop()\")\n",
    "print(df)\n",
    "school = ['GOV', 'PRIVATE', 'GOV']\n",
    "df.insert(3,'school',school)\n",
    "print(df)"
   ]
  },
  {
   "cell_type": "code",
   "execution_count": null,
   "id": "30c6dc87",
   "metadata": {},
   "outputs": [],
   "source": [
    "#ques 6\n",
    "print(\"Series and Dataframe are value mutable but not size mutable.\")"
   ]
  },
  {
   "cell_type": "code",
   "execution_count": null,
   "id": "859ff9a0",
   "metadata": {},
   "outputs": [],
   "source": [
    "#quest 7\n",
    "a= df['Name']\n",
    "b= df['Age']\n",
    "c= df['school']\n",
    "data = pd.DataFrame(a)\n",
    "data.insert(1,'Age', b)\n",
    "data.insert(2,'school',c)\n",
    "print(data)"
   ]
  },
  {
   "cell_type": "code",
   "execution_count": null,
   "id": "360ad28f",
   "metadata": {},
   "outputs": [],
   "source": []
  }
 ],
 "metadata": {
  "kernelspec": {
   "display_name": "Python 3 (ipykernel)",
   "language": "python",
   "name": "python3"
  },
  "language_info": {
   "codemirror_mode": {
    "name": "ipython",
    "version": 3
   },
   "file_extension": ".py",
   "mimetype": "text/x-python",
   "name": "python",
   "nbconvert_exporter": "python",
   "pygments_lexer": "ipython3",
   "version": "3.9.13"
  }
 },
 "nbformat": 4,
 "nbformat_minor": 5
}
