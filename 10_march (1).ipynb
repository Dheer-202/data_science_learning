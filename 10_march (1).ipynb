{
 "cells": [
  {
   "cell_type": "code",
   "execution_count": 1,
   "id": "587d11cd",
   "metadata": {},
   "outputs": [],
   "source": [
    "import scipy.stats as scp\n",
    "import numpy as np"
   ]
  },
  {
   "cell_type": "code",
   "execution_count": 2,
   "id": "afe30b62",
   "metadata": {},
   "outputs": [
    {
     "data": {
      "text/plain": [
       "(3.4319542658506075, 4.5680457341493925)"
      ]
     },
     "execution_count": 2,
     "metadata": {},
     "output_type": "execute_result"
    }
   ],
   "source": [
    "#ques 17\n",
    "sample_mean = 4\n",
    "sample_deviation = 1.5\n",
    "sample_n = 50\n",
    "confidence_level = 99\n",
    "significance_level = 1\n",
    "\n",
    "t_value = scp.t.ppf(q = 0.995, df = 50)\n",
    "population_mean = (sample_mean-t_value*(sample_deviation/np.sqrt(sample_n)), sample_mean+t_value*(sample_deviation/np.sqrt(sample_n)))\n",
    "\n",
    "population_mean"
   ]
  },
  {
   "cell_type": "code",
   "execution_count": 3,
   "id": "b4539912",
   "metadata": {},
   "outputs": [
    {
     "name": "stdout",
     "output_type": "stream",
     "text": [
      "H0: mean_1 == mean_2\n",
      "H1: mean_1 != mean_2\n",
      "\n",
      "if value of T statistics will fall under t value for significance level 0.01, i.e. (-2.644,2.644) then null hypothesis will be true and populaiton mean will be same.\n",
      "Since we are testing for null hypothesis that population mean are equal. So, difference of population means is zero.\n",
      "\n",
      "T_statistics: 2.2928169019340365\n",
      "null hypothesis is true and population means are equal.\n"
     ]
    }
   ],
   "source": [
    "#ques 16\n",
    "\n",
    "print('''H0: mean_1 == mean_2\n",
    "H1: mean_1 != mean_2\n",
    "\n",
    "if value of T statistics will fall under t value for significance level 0.01, i.e. (-2.644,2.644) then null hypothesis will be true and populaiton mean will be same.\n",
    "Since we are testing for null hypothesis that population mean are equal. So, difference of population means is zero.\n",
    "''')\n",
    "sample1_mean = 80\n",
    "sample1_n = 30\n",
    "sample1_std = 10\n",
    "sample2_mean = 75\n",
    "sample2_n = 45\n",
    "sample2_std = 8\n",
    "\n",
    "t_value = scp.t.ppf(q = 0.995, df = 73)\n",
    "T_statistics = (sample1_mean-sample2_mean)/np.sqrt((sample1_std**2)/sample1_n + (sample2_std**2)/sample2_n)\n",
    "print('T_statistics:', T_statistics)\n",
    "if -t_value<T_statistics<t_value:\n",
    "    print(\"null hypothesis is true and population means are equal.\")\n",
    "else:\n",
    "    print(\"null hypothesis is failed.\")"
   ]
  },
  {
   "cell_type": "code",
   "execution_count": 4,
   "id": "07f6b47d",
   "metadata": {},
   "outputs": [
    {
     "name": "stdout",
     "output_type": "stream",
     "text": [
      "H0: true_mean_weight < 5\n",
      "H1: true_mean_weight > 5\n",
      "\n",
      "If the value of Z statistics will be greater than Z alpha for significance level 0.01, then null hypothesis will be rejected.\n",
      "If the value of Z statistics will be lesser than Z alpha for significance level 0.01, then null hypothesis will be fail to reject.\n",
      "\n",
      "null hypothesis is accepted and true mean weight of product is less than 5.\n"
     ]
    }
   ],
   "source": [
    "#ques 15 \n",
    "\n",
    "print('''H0: true_mean_weight < 5\n",
    "H1: true_mean_weight > 5\n",
    "\n",
    "If the value of Z statistics will be greater than Z alpha for significance level 0.01, then null hypothesis will be rejected.\n",
    "If the value of Z statistics will be lesser than Z alpha for significance level 0.01, then null hypothesis will be fail to reject.\n",
    "''')\n",
    "population_mean = 5\n",
    "population_std = 0.5\n",
    "\n",
    "sample_mean = 4.8\n",
    "sample_n = 25\n",
    "\n",
    "Z_statictics = ((sample_mean-population_mean)/population_std)*np.sqrt(sample_n)\n",
    "\n",
    "z_value = scp.norm.ppf(q = 0.999)\n",
    "if Z_statictics<z_value:\n",
    "    print(\"null hypothesis is accepted and true mean weight of product is less than 5.\")\n",
    "else:\n",
    "    print(\"null hypothesis is rejected.\")"
   ]
  },
  {
   "cell_type": "code",
   "execution_count": 5,
   "id": "bfe679e5",
   "metadata": {},
   "outputs": [
    {
     "name": "stdout",
     "output_type": "stream",
     "text": [
      "\n",
      "H0: mean_blood_pressure_dec = 10\n",
      "H1:  mean_blood_pressure_dec not equal to 10\n",
      "\n",
      "we will use t statistics for hypothesis as sample deviation is known and population deviation is unknown.\n",
      "we will use two sided t test  for it.\n",
      "\n",
      "\n",
      "t_value: 1.9839715184496334\n",
      "t_stat: -6.666666666666666\n",
      "Null Hypothesis is failed to accept with 95% confidence level\n"
     ]
    }
   ],
   "source": [
    "#ques 14\n",
    "projected_dec_bp = 10\n",
    "sample_dec_bp= 8\n",
    "sample_std = 3\n",
    "n_sample = 100\n",
    "\n",
    "print('''\n",
    "H0: mean_blood_pressure_dec = 10\n",
    "H1:  mean_blood_pressure_dec not equal to 10\n",
    "\n",
    "we will use t statistics for hypothesis as sample deviation is known and population deviation is unknown.\n",
    "we will use two sided t test  for it.\n",
    "\n",
    "''')\n",
    "\n",
    "t_value = scp.t.ppf(q =0.975, df = 100)\n",
    "t_stat = ((sample_dec_bp-projected_dec_bp)/sample_std)*np.sqrt(n_sample)\n",
    "\n",
    "print('t_value:', t_value)\n",
    "print('t_stat:', t_stat)\n",
    "if abs(t_stat)<t_value:\n",
    "    print(\"Null Hypothesis is accepted with 95% confidence level\")\n",
    "else:\n",
    "    print('Null Hypothesis is failed to accept with 95% confidence level')"
   ]
  },
  {
   "cell_type": "code",
   "execution_count": 6,
   "id": "4539dbfe",
   "metadata": {},
   "outputs": [
    {
     "name": "stdout",
     "output_type": "stream",
     "text": [
      "Since we have sample mean and deviation so we will use T distribution.\n",
      "\n",
      "Cofidence interval for population_mean= (488.1495619253141, 511.8504380746859)\n"
     ]
    }
   ],
   "source": [
    "#ques 13\n",
    "\n",
    "sample_n = 50\n",
    "sample_mean_revenue = 500\n",
    "sample_std=50\n",
    "confidence_level = 0.95\n",
    "\n",
    "print('''Since we have sample mean and deviation so we will use T distribution.\n",
    "''')\n",
    "\n",
    "t_value = scp.t.ppf(q = confidence_level, df = sample_n)\n",
    "\n",
    "population_mean = (sample_mean_revenue-(t_value*sample_std)/np.sqrt(sample_n),sample_mean_revenue+(t_value*sample_std)/np.sqrt(sample_n))\n",
    "print('Cofidence interval for population_mean=',population_mean)"
   ]
  },
  {
   "cell_type": "code",
   "execution_count": 8,
   "id": "9039c9a2",
   "metadata": {},
   "outputs": [
    {
     "name": "stdout",
     "output_type": "stream",
     "text": [
      "t-statistics is used in T-test to take decision of accepting and rejecting the null hypothesis.\n",
      "\n",
      "formula for t-statistics: ((sample_mean-population_mean)/standard_deviation)*square_root_no_of_samples\n",
      "\n"
     ]
    }
   ],
   "source": [
    "#ques 12\n",
    "print(\"t-statistics is used in T-test to take decision of accepting and rejecting the null hypothesis.\")\n",
    "print('''\n",
    "formula for t-statistics: ((sample_mean-population_mean)/standard_deviation)*square_root_no_of_samples\n",
    "''')"
   ]
  },
  {
   "cell_type": "code",
   "execution_count": 9,
   "id": "27d93e00",
   "metadata": {},
   "outputs": [
    {
     "name": "stdout",
     "output_type": "stream",
     "text": [
      "Student t-distribution is probability distribution similar to normal distribution used for estimating statistical inference about population mean  for smmall sample.\n"
     ]
    }
   ],
   "source": [
    "#ques 11\n",
    "print(\"Student t-distribution is probability distribution similar to normal distribution used for estimating statistical inference about population mean  for smmall sample.\")"
   ]
  },
  {
   "cell_type": "code",
   "execution_count": 17,
   "id": "78cca77e",
   "metadata": {},
   "outputs": [
    {
     "data": {
      "image/png": "[encoded data removed]",
      "text/plain": [
       "<Figure size 1100x700 with 1 Axes>"
      ]
     },
     "metadata": {},
     "output_type": "display_data"
    }
   ],
   "source": [
    "#ques 9\n",
    "degree_freedom = 10\n",
    "\n",
    "x = np.linspace(-3,3,500)\n",
    "y = scp.t.pdf(x= x, df=degree_freedom, loc = 0,scale =1)\n",
    "import matplotlib.pyplot as plt\n",
    "plt.figure(figsize = (11,7))\n",
    "plt.scatter(x,y)\n",
    "plt.show()"
   ]
  },
  {
   "cell_type": "code",
   "execution_count": 18,
   "id": "6d310114",
   "metadata": {},
   "outputs": [
    {
     "name": "stdout",
     "output_type": "stream",
     "text": [
      "p value is probability of of obtaining set of observation when null hypothesis  is true.\n",
      "It have large significance in hypothesis testing if p value is less than significance level then we reject the null hypothesis, if p value is greater than significance level then we fail to reject null hypothesis.\n"
     ]
    }
   ],
   "source": [
    "#ques 8\n",
    "print(\"p value is probability of of obtaining set of observation when null hypothesis  is true.\")\n",
    "print(\"It have large significance in hypothesis testing if p value is less than significance level then we reject the null hypothesis, if p value is greater than significance level then we fail to reject null hypothesis.\")"
   ]
  },
  {
   "cell_type": "code",
   "execution_count": 19,
   "id": "4eb7d4d7",
   "metadata": {},
   "outputs": [
    {
     "name": "stdout",
     "output_type": "stream",
     "text": [
      "\n",
      "First generate null and alternate hypothesis.\n",
      "then calculate the p value.\n",
      "compare if p value is less than or greater than significance level.\n",
      "Decide if to reject or accept the null hypothesis.\n",
      "\n"
     ]
    }
   ],
   "source": [
    "#ques 7\n",
    "print('''\n",
    "First generate null and alternate hypothesis.\n",
    "then calculate the p value.\n",
    "compare if p value is less than or greater than significance level.\n",
    "Decide if to reject or accept the null hypothesis.\n",
    "''')"
   ]
  },
  {
   "cell_type": "code",
   "execution_count": 20,
   "id": "c19528a6",
   "metadata": {},
   "outputs": [
    {
     "name": "stdout",
     "output_type": "stream",
     "text": [
      "A null hypothesis is a statement, in which there is no relationship between two variables\n",
      "An alternative hypothesis is statement in which there is some statistical significance between two measured phenomenon.\n"
     ]
    }
   ],
   "source": [
    "#ques 6\n",
    "print('A null hypothesis is a statement, in which there is no relationship between two variables')\n",
    "print(\"An alternative hypothesis is statement in which there is some statistical significance between two measured phenomenon.\")"
   ]
  },
  {
   "cell_type": "code",
   "execution_count": null,
   "id": "7293e811",
   "metadata": {},
   "outputs": [],
   "source": []
  },
  {
   "cell_type": "code",
   "execution_count": null,
   "id": "0a7870ab",
   "metadata": {},
   "outputs": [],
   "source": []
  },
  {
   "cell_type": "code",
   "execution_count": null,
   "id": "980e0aba",
   "metadata": {},
   "outputs": [],
   "source": []
  },
  {
   "cell_type": "code",
   "execution_count": null,
   "id": "2334cd2b",
   "metadata": {},
   "outputs": [],
   "source": []
  },
  {
   "cell_type": "code",
   "execution_count": null,
   "id": "021e1fac",
   "metadata": {},
   "outputs": [],
   "source": []
  },
  {
   "cell_type": "code",
   "execution_count": null,
   "id": "16ac1d1b",
   "metadata": {},
   "outputs": [],
   "source": []
  },
  {
   "cell_type": "code",
   "execution_count": null,
   "id": "6314a12c",
   "metadata": {},
   "outputs": [],
   "source": []
  },
  {
   "cell_type": "code",
   "execution_count": null,
   "id": "a1760499",
   "metadata": {},
   "outputs": [],
   "source": []
  },
  {
   "cell_type": "code",
   "execution_count": null,
   "id": "43de71ff",
   "metadata": {},
   "outputs": [],
   "source": []
  },
  {
   "cell_type": "code",
   "execution_count": null,
   "id": "f76d5917",
   "metadata": {},
   "outputs": [],
   "source": []
  },
  {
   "cell_type": "code",
   "execution_count": null,
   "id": "5cd46afe",
   "metadata": {},
   "outputs": [],
   "source": []
  },
  {
   "cell_type": "code",
   "execution_count": null,
   "id": "b6464cbe",
   "metadata": {},
   "outputs": [],
   "source": []
  },
  {
   "cell_type": "code",
   "execution_count": null,
   "id": "79d21d7c",
   "metadata": {},
   "outputs": [],
   "source": []
  },
  {
   "cell_type": "code",
   "execution_count": null,
   "id": "150262c5",
   "metadata": {},
   "outputs": [],
   "source": []
  },
  {
   "cell_type": "code",
   "execution_count": null,
   "id": "f89e0a58",
   "metadata": {},
   "outputs": [],
   "source": []
  },
  {
   "cell_type": "code",
   "execution_count": null,
   "id": "6410d78e",
   "metadata": {},
   "outputs": [],
   "source": []
  },
  {
   "cell_type": "code",
   "execution_count": null,
   "id": "71684d65",
   "metadata": {},
   "outputs": [],
   "source": []
  },
  {
   "cell_type": "code",
   "execution_count": null,
   "id": "a77bf6b1",
   "metadata": {},
   "outputs": [],
   "source": []
  },
  {
   "cell_type": "code",
   "execution_count": null,
   "id": "da17841d",
   "metadata": {},
   "outputs": [],
   "source": []
  },
  {
   "cell_type": "code",
   "execution_count": null,
   "id": "6db02e29",
   "metadata": {},
   "outputs": [],
   "source": []
  },
  {
   "cell_type": "code",
   "execution_count": null,
   "id": "7fb7b4bc",
   "metadata": {},
   "outputs": [],
   "source": []
  },
  {
   "cell_type": "code",
   "execution_count": null,
   "id": "565676bf",
   "metadata": {},
   "outputs": [],
   "source": []
  },
  {
   "cell_type": "code",
   "execution_count": null,
   "id": "8bf1404a",
   "metadata": {},
   "outputs": [],
   "source": []
  },
  {
   "cell_type": "code",
   "execution_count": null,
   "id": "62107049",
   "metadata": {},
   "outputs": [],
   "source": []
  },
  {
   "cell_type": "code",
   "execution_count": null,
   "id": "09659206",
   "metadata": {},
   "outputs": [],
   "source": []
  },
  {
   "cell_type": "code",
   "execution_count": null,
   "id": "aa73ad55",
   "metadata": {},
   "outputs": [],
   "source": []
  },
  {
   "cell_type": "code",
   "execution_count": null,
   "id": "2810d3c7",
   "metadata": {},
   "outputs": [],
   "source": []
  },
  {
   "cell_type": "code",
   "execution_count": null,
   "id": "6c498bf3",
   "metadata": {},
   "outputs": [],
   "source": []
  },
  {
   "cell_type": "code",
   "execution_count": null,
   "id": "bed200c9",
   "metadata": {},
   "outputs": [],
   "source": []
  },
  {
   "cell_type": "code",
   "execution_count": null,
   "id": "fa7fa4a6",
   "metadata": {},
   "outputs": [],
   "source": []
  },
  {
   "cell_type": "code",
   "execution_count": null,
   "id": "110e7053",
   "metadata": {},
   "outputs": [],
   "source": []
  },
  {
   "cell_type": "code",
   "execution_count": null,
   "id": "3c8a7d1c",
   "metadata": {},
   "outputs": [],
   "source": []
  },
  {
   "cell_type": "code",
   "execution_count": null,
   "id": "36ed7a3d",
   "metadata": {},
   "outputs": [],
   "source": []
  },
  {
   "cell_type": "code",
   "execution_count": null,
   "id": "925c4658",
   "metadata": {},
   "outputs": [],
   "source": []
  },
  {
   "cell_type": "code",
   "execution_count": null,
   "id": "4a616a7e",
   "metadata": {},
   "outputs": [],
   "source": []
  },
  {
   "cell_type": "code",
   "execution_count": null,
   "id": "12f12dd3",
   "metadata": {},
   "outputs": [],
   "source": []
  },
  {
   "cell_type": "code",
   "execution_count": null,
   "id": "d043c076",
   "metadata": {},
   "outputs": [],
   "source": []
  },
  {
   "cell_type": "code",
   "execution_count": null,
   "id": "4e5933ab",
   "metadata": {},
   "outputs": [],
   "source": []
  },
  {
   "cell_type": "code",
   "execution_count": null,
   "id": "c755f30f",
   "metadata": {},
   "outputs": [],
   "source": []
  },
  {
   "cell_type": "code",
   "execution_count": null,
   "id": "91c54d2c",
   "metadata": {},
   "outputs": [],
   "source": []
  },
  {
   "cell_type": "code",
   "execution_count": null,
   "id": "60a41761",
   "metadata": {},
   "outputs": [],
   "source": []
  },
  {
   "cell_type": "code",
   "execution_count": null,
   "id": "40ac3f03",
   "metadata": {},
   "outputs": [],
   "source": []
  },
  {
   "cell_type": "code",
   "execution_count": null,
   "id": "da5e6235",
   "metadata": {},
   "outputs": [],
   "source": []
  },
  {
   "cell_type": "code",
   "execution_count": null,
   "id": "d484a52e",
   "metadata": {},
   "outputs": [],
   "source": []
  }
 ],
 "metadata": {
  "kernelspec": {
   "display_name": "Python 3 (ipykernel)",
   "language": "python",
   "name": "python3"
  },
  "language_info": {
   "codemirror_mode": {
    "name": "ipython",
    "version": 3
   },
   "file_extension": ".py",
   "mimetype": "text/x-python",
   "name": "python",
   "nbconvert_exporter": "python",
   "pygments_lexer": "ipython3",
   "version": "3.9.13"
  }
 },
 "nbformat": 4,
 "nbformat_minor": 5
}
