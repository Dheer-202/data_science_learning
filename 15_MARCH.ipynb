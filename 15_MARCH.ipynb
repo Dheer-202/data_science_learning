{
 "cells": [
  {
   "cell_type": "code",
   "execution_count": 15,
   "id": "d4ef0092",
   "metadata": {},
   "outputs": [
    {
     "name": "stdout",
     "output_type": "stream",
     "text": [
      "Artificial Intelligence is an idea in which machine do works without human interference.\n",
      "Machine learning is a subset of AI by which we train machines to mimic human ways by datasets and algorithms.\n",
      "Deep learning is a subset of ML based on neural networks which makes machines capable of learning complex patterns and relationships within data.\n",
      "\n"
     ]
    }
   ],
   "source": [
    "#ANS 1\n",
    "print('''Artificial Intelligence is an idea in which machine do works without human interference.\n",
    "Machine learning is a subset of AI by which we train machines to mimic human ways by datasets and algorithms.\n",
    "Deep learning is a subset of ML based on neural networks which makes machines capable of learning complex patterns and relationships within data.\n",
    "''')"
   ]
  },
  {
   "cell_type": "code",
   "execution_count": 16,
   "id": "055855da",
   "metadata": {},
   "outputs": [
    {
     "name": "stdout",
     "output_type": "stream",
     "text": [
      "In Supervised learning, model is trained by labelled dataset. It generally solve two types of problems: Regression and Classification.\n",
      "some examples of uses are detecting spam emails, credit scoring.\n"
     ]
    }
   ],
   "source": [
    "#ANS 2\n",
    "print(\"In Supervised learning, model is trained by labelled dataset. It generally solve two types of problems: Regression and Classification.\")\n",
    "print(\"some examples of uses are detecting spam emails, credit scoring.\")"
   ]
  },
  {
   "cell_type": "code",
   "execution_count": 17,
   "id": "fa768022",
   "metadata": {},
   "outputs": [
    {
     "name": "stdout",
     "output_type": "stream",
     "text": [
      "In Unsupervised learning, model is trained by unlabelled dataset. In this model tris to recognise pattern and groups within dataset.\n",
      "Some examples of uses are Clinical cances studies, Anomaly detection.\n"
     ]
    }
   ],
   "source": [
    "#ANS 3\n",
    "print('''In Unsupervised learning, model is trained by unlabelled dataset. In this model tris to recognise pattern and groups within dataset.\n",
    "Some examples of uses are Clinical cances studies, Anomaly detection.''')"
   ]
  },
  {
   "cell_type": "code",
   "execution_count": 18,
   "id": "7868f5a3",
   "metadata": {},
   "outputs": [
    {
     "name": "stdout",
     "output_type": "stream",
     "text": [
      "Data Science is integration of concepts from AI, ML and DL.\n",
      "AI is broad field of broad field of self working machines.\n",
      "ML is used to train machines to mimic the ways of human.\n",
      "DL is used to learn complex patterns and find relationships within dataset.\n"
     ]
    }
   ],
   "source": [
    "#ANS 4\n",
    "print('''Data Science is integration of concepts from AI, ML and DL.\n",
    "AI is broad field of broad field of self working machines.\n",
    "ML is used to train machines to mimic the ways of human.\n",
    "DL is used to learn complex patterns and find relationships within dataset.''')"
   ]
  },
  {
   "cell_type": "code",
   "execution_count": 19,
   "id": "7b56ec8d",
   "metadata": {},
   "outputs": [
    {
     "name": "stdout",
     "output_type": "stream",
     "text": [
      "Supervised learning uses labelled dataset to train model.\n",
      "Unsupervised learning uses unlabelled dataset to traing model and usually do clustering.\n",
      "Semi-supervised learning uses labelled dataset to train model but gives clusters as output.\n",
      "\n"
     ]
    }
   ],
   "source": [
    "#ANS 5\n",
    "print('''Supervised learning uses labelled dataset to train model.\n",
    "Unsupervised learning uses unlabelled dataset to traing model and usually do clustering.\n",
    "Semi-supervised learning uses labelled dataset to train model but gives clusters as output.\n",
    "''')"
   ]
  },
  {
   "cell_type": "code",
   "execution_count": 20,
   "id": "2ca4d7b4",
   "metadata": {},
   "outputs": [
    {
     "name": "stdout",
     "output_type": "stream",
     "text": [
      "Train, test and Validation split is division of given dataset into train set for training of model, validation test for tuning of model and test set for testing and accuracy of model.\n"
     ]
    }
   ],
   "source": [
    "#ANS 6\n",
    "print('''Train, test and Validation split is division of given dataset into train set for training of model, validation test for tuning of model and test set for testing and accuracy of model.''')"
   ]
  },
  {
   "cell_type": "code",
   "execution_count": 21,
   "id": "285e72f6",
   "metadata": {},
   "outputs": [
    {
     "name": "stdout",
     "output_type": "stream",
     "text": [
      "Some commonly used supervised algorithms are in Credit scoring, and detecting spam mails. Some unsupervivsed algorithms is of anomaly detecting.\n"
     ]
    }
   ],
   "source": [
    "#ANS 8\n",
    "print('''Some commonly used supervised algorithms are in Credit scoring, and detecting spam mails. Some unsupervivsed algorithms is of anomaly detecting.''')"
   ]
  },
  {
   "cell_type": "code",
   "execution_count": null,
   "id": "729f3748",
   "metadata": {},
   "outputs": [],
   "source": []
  },
  {
   "cell_type": "code",
   "execution_count": null,
   "id": "0892c064",
   "metadata": {},
   "outputs": [],
   "source": []
  }
 ],
 "metadata": {
  "kernelspec": {
   "display_name": "Python 3 (ipykernel)",
   "language": "python",
   "name": "python3"
  },
  "language_info": {
   "codemirror_mode": {
    "name": "ipython",
    "version": 3
   },
   "file_extension": ".py",
   "mimetype": "text/x-python",
   "name": "python",
   "nbconvert_exporter": "python",
   "pygments_lexer": "ipython3",
   "version": "3.9.13"
  }
 },
 "nbformat": 4,
 "nbformat_minor": 5
}
