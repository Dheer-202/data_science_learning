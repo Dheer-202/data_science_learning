{
 "cells": [
  {
   "cell_type": "code",
   "execution_count": 1,
   "id": "5aceeeac",
   "metadata": {},
   "outputs": [
    {
     "name": "stdout",
     "output_type": "stream",
     "text": [
      "R squared tells how well regression model explain the observed data.  It is statistical measure that determines the proportion of variance in the dependent variable that can be explained by the independent variable\n"
     ]
    }
   ],
   "source": [
    "print('''R squared tells how well regression model explain the observed data.  It is statistical measure that determines the proportion of variance in the dependent variable that can be explained by the independent variable''')"
   ]
  },
  {
   "cell_type": "code",
   "execution_count": 2,
   "id": "2fe952dd",
   "metadata": {},
   "outputs": [
    {
     "name": "stdout",
     "output_type": "stream",
     "text": [
      "Adjusted R squared is modified version of R squared when no of independent variable is more than 1. \n"
     ]
    }
   ],
   "source": [
    "print('''Adjusted R squared is modified version of R squared when no of independent variable is more than 1. ''')"
   ]
  },
  {
   "cell_type": "code",
   "execution_count": 3,
   "id": "998dcdc2",
   "metadata": {},
   "outputs": [
    {
     "name": "stdout",
     "output_type": "stream",
     "text": [
      "RMSE, MSE, MAE are cost fucntions for linear regression models. These are minimised to get parameters for a best fit of model.\n"
     ]
    }
   ],
   "source": [
    "print('''RMSE, MSE, MAE are cost fucntions for linear regression models. These are minimised to get parameters for a best fit of model.''')"
   ]
  },
  {
   "cell_type": "code",
   "execution_count": 4,
   "id": "fbead87b",
   "metadata": {},
   "outputs": [
    {
     "name": "stdout",
     "output_type": "stream",
     "text": [
      " \n",
      "Advantage of MSE is that it has only one local minima which is also global minima, and disadvantages are different unit from variable and not robust to outliers.\n",
      "Advantage of MAE is that it is robust to outliers and have same unit as variables, disadvantage is that its convergence takes more time.\n",
      "RMSE is robust to outlier, have same unit and it convergers is also easy and sooner\n",
      " \n"
     ]
    }
   ],
   "source": [
    "print(''' \n",
    "Advantage of MSE is that it has only one local minima which is also global minima, and disadvantages are different unit from variable and not robust to outliers.\n",
    "Advantage of MAE is that it is robust to outliers and have same unit as variables, disadvantage is that its convergence takes more time.\n",
    "RMSE is robust to outlier, have same unit and it convergers is also easy and sooner\n",
    " ''')"
   ]
  },
  {
   "cell_type": "code",
   "execution_count": 5,
   "id": "7c9f6786",
   "metadata": {},
   "outputs": [
    {
     "name": "stdout",
     "output_type": "stream",
     "text": [
      "Lasso regression is technique to measure relationships between variables and to make predictions. It do feature selection and regularization to enhance performance of model while The ridge only reduces overfitting. \n",
      "When feature selection is crucial then Lasso is used.\n",
      "\n"
     ]
    }
   ],
   "source": [
    "print('''Lasso regression is technique to measure relationships between variables and to make predictions. It do feature selection and regularization to enhance performance of model while The ridge only reduces overfitting. \n",
    "When feature selection is crucial then Lasso is used.\n",
    "''')"
   ]
  },
  {
   "cell_type": "code",
   "execution_count": 6,
   "id": "d58fc515",
   "metadata": {},
   "outputs": [
    {
     "name": "stdout",
     "output_type": "stream",
     "text": [
      "Regularization adds a penalty term in cost funtion of regression model. hence prevent fitting training data completly and give some error. \n"
     ]
    }
   ],
   "source": [
    "print('''Regularization adds a penalty term in cost funtion of regression model. hence prevent fitting training data completly and give some error. ''')"
   ]
  },
  {
   "cell_type": "code",
   "execution_count": 7,
   "id": "2234019a",
   "metadata": {},
   "outputs": [
    {
     "name": "stdout",
     "output_type": "stream",
     "text": [
      "Regularization causes dimensionality reduction, means model is trained using low dimensional dataset so causing high bias in predictions.\n"
     ]
    }
   ],
   "source": [
    "print('''Regularization causes dimensionality reduction, means model is trained using low dimensional dataset so causing high bias in predictions.''')"
   ]
  },
  {
   "cell_type": "code",
   "execution_count": 8,
   "id": "80e32d92",
   "metadata": {},
   "outputs": [
    {
     "name": "stdout",
     "output_type": "stream",
     "text": [
      " Model A has a lower RMSE of 10, so it might perform better when large errors are of particular concern.\n",
      "Model B has a lower MAE of 8, so it might perform better in terms of overall average prediction accuracy.\n"
     ]
    }
   ],
   "source": [
    "print(''' Model A has a lower RMSE of 10, so it might perform better when large errors are of particular concern.\n",
    "Model B has a lower MAE of 8, so it might perform better in terms of overall average prediction accuracy.''')"
   ]
  }
 ],
 "metadata": {
  "kernelspec": {
   "display_name": "Python 3 (ipykernel)",
   "language": "python",
   "name": "python3"
  },
  "language_info": {
   "codemirror_mode": {
    "name": "ipython",
    "version": 3
   },
   "file_extension": ".py",
   "mimetype": "text/x-python",
   "name": "python",
   "nbconvert_exporter": "python",
   "pygments_lexer": "ipython3",
   "version": "3.9.13"
  }
 },
 "nbformat": 4,
 "nbformat_minor": 5
}
