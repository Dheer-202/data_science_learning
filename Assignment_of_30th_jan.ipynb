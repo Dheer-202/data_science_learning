{
 "cells": [
  {
   "cell_type": "code",
   "execution_count": null,
   "id": "a865de6e",
   "metadata": {},
   "outputs": [],
   "source": [
    "#first question"
   ]
  },
  {
   "cell_type": "code",
   "execution_count": 2,
   "id": "86cd9c1c",
   "metadata": {},
   "outputs": [
    {
     "name": "stdout",
     "output_type": "stream",
     "text": [
      "enter the percentage obtaine: 85\n",
      "Grade obtained is, 'B'.\n"
     ]
    }
   ],
   "source": [
    "ask = int(input(\"enter the percentage obtaine: \"))\n",
    "if ask<=60:\n",
    "    print(\"Grade obtained is, 'D'.\")\n",
    "elif ask<=80:\n",
    "    print(\"Grade obtained is, 'C'.\")\n",
    "elif ask<=90:\n",
    "    print(\"Grade obtained is, 'B'.\")\n",
    "else:\n",
    "    print(\"Grade obtained is, 'A'.\")"
   ]
  },
  {
   "cell_type": "code",
   "execution_count": null,
   "id": "87c1623f",
   "metadata": {},
   "outputs": [],
   "source": [
    "#second question"
   ]
  },
  {
   "cell_type": "code",
   "execution_count": 5,
   "id": "44d473ea",
   "metadata": {},
   "outputs": [
    {
     "name": "stdout",
     "output_type": "stream",
     "text": [
      "enter the cost price of your bike: 8546\n",
      "You need to pay tax amount at 5%.\n"
     ]
    }
   ],
   "source": [
    "cost = int(input(\"enter the cost price of your bike: \"))\n",
    "if cost>0:\n",
    "    if cost<=50000:\n",
    "        print(\"You need to pay tax amount at 5%.\")\n",
    "    elif cost<=100000:\n",
    "        print(\"You need to pay tax amount at 10%.\")\n",
    "    else:\n",
    "        print(\" You need to pay tax amount at 15%.\")\n",
    "else:\n",
    "    print(\"enter a valid number\")"
   ]
  },
  {
   "cell_type": "code",
   "execution_count": null,
   "id": "d631a156",
   "metadata": {},
   "outputs": [],
   "source": [
    "#third question"
   ]
  },
  {
   "cell_type": "code",
   "execution_count": 6,
   "id": "b4f65e70",
   "metadata": {},
   "outputs": [
    {
     "name": "stdout",
     "output_type": "stream",
     "text": [
      "enter the city name: delhi\n",
      "Monument in this city is Red fort.\n"
     ]
    }
   ],
   "source": [
    "ask = input(\"enter the city name: \")\n",
    "ask = ask.lower()\n",
    "if ask=='delhi':\n",
    "    print(\"Monument in this city is Red fort.\")\n",
    "elif ask=='agra':\n",
    "    print(\"Monument in this city is Tajmahal.\")\n",
    "elif ask=='jaipur':\n",
    "    print(\"Monument in this city is Jalmahal.\")\n",
    "else:\n",
    "    print(\"invalid name of city\")\n",
    "    "
   ]
  },
  {
   "cell_type": "code",
   "execution_count": null,
   "id": "f720f18d",
   "metadata": {},
   "outputs": [],
   "source": [
    "#fourth question"
   ]
  },
  {
   "cell_type": "code",
   "execution_count": 7,
   "id": "48d9c4ce",
   "metadata": {},
   "outputs": [
    {
     "name": "stdout",
     "output_type": "stream",
     "text": [
      "enter a number: 65\n",
      "the number of times n can be divided by three is:  3\n"
     ]
    }
   ],
   "source": [
    "n = int(input(\"enter a number: \"))\n",
    "i=0\n",
    "while n>3:\n",
    "    n=n/3\n",
    "    i+=1\n",
    "\n",
    "print(\"the number of times n can be divided by three is: \", i)"
   ]
  },
  {
   "cell_type": "code",
   "execution_count": null,
   "id": "8d5bd884",
   "metadata": {},
   "outputs": [],
   "source": [
    "#fifth question"
   ]
  },
  {
   "cell_type": "code",
   "execution_count": null,
   "id": "d0720a9d",
   "metadata": {},
   "outputs": [],
   "source": [
    "'''While loop is used when we don't know the how many times a loop is to be run for a given condition'''"
   ]
  },
  {
   "cell_type": "code",
   "execution_count": null,
   "id": "366d103a",
   "metadata": {},
   "outputs": [],
   "source": [
    "# 6th question"
   ]
  },
  {
   "cell_type": "code",
   "execution_count": 8,
   "id": "54292273",
   "metadata": {},
   "outputs": [
    {
     "name": "stdout",
     "output_type": "stream",
     "text": [
      "the first pattern\n",
      "\n",
      "*\n",
      "**\n",
      "***\n",
      "****\n",
      "*****\n",
      "******\n",
      "*******\n",
      "********\n",
      "*********\n",
      "**********\n",
      "*********\n",
      "********\n",
      "*******\n",
      "******\n",
      "*****\n",
      "****\n",
      "***\n",
      "**\n",
      "*\n",
      "second pattern\n",
      "$\n",
      "$$$$$$$$$\n",
      "$$\n",
      "$$$$$$$$\n",
      "$$$\n",
      "$$$$$$$\n",
      "$$$$\n",
      "$$$$$$\n",
      "$$$$$\n",
      "$$$$$\n",
      "$$$$$$\n",
      "$$$$\n",
      "$$$$$$$\n",
      "$$$\n",
      "$$$$$$$$\n",
      "$$\n",
      "$$$$$$$$$\n",
      "$\n",
      "$$$$$$$$$$\n",
      "\n",
      "third pattern\n",
      " #####            #####\n",
      "  #####           #####\n",
      "   #####          #####\n",
      "    #####         #####\n",
      "     #####        #####\n",
      "      #####       #####\n",
      "       #####      #####\n",
      "        #####     #####\n",
      "         #####    #####\n",
      "          #####   #####\n",
      "           #####  #####\n"
     ]
    }
   ],
   "source": [
    "i=0\n",
    "print(\"the first pattern\")\n",
    "while i<10:\n",
    "    print(i*'*')\n",
    "    i=i+1\n",
    "while i<20:\n",
    "    print((20-i)*'*')\n",
    "    i=i+1\n",
    "    \n",
    "print(\"second pattern\")\n",
    "n = 1\n",
    "while n<=10:\n",
    "    print(n*'$')\n",
    "    print((10-n)*'$')\n",
    "    n=n+1\n",
    "print(\"third pattern\")\n",
    "z=0\n",
    "while z<=10:\n",
    "    print(z*' ',5*'#',(10-z)*' ',5*'#')\n",
    "    z+=1"
   ]
  },
  {
   "cell_type": "code",
   "execution_count": null,
   "id": "921f8e2e",
   "metadata": {},
   "outputs": [],
   "source": [
    "#7th question"
   ]
  },
  {
   "cell_type": "code",
   "execution_count": 9,
   "id": "adef9e71",
   "metadata": {},
   "outputs": [
    {
     "name": "stdout",
     "output_type": "stream",
     "text": [
      "10,9,8,7,6,5,4,3,2,1,"
     ]
    }
   ],
   "source": [
    "i=1\n",
    "while i<=10 and i>0:\n",
    "    print(11-i,end=',')\n",
    "    i=i+1"
   ]
  },
  {
   "cell_type": "code",
   "execution_count": null,
   "id": "4318b437",
   "metadata": {},
   "outputs": [],
   "source": []
  }
 ],
 "metadata": {
  "kernelspec": {
   "display_name": "Python 3 (ipykernel)",
   "language": "python",
   "name": "python3"
  },
  "language_info": {
   "codemirror_mode": {
    "name": "ipython",
    "version": 3
   },
   "file_extension": ".py",
   "mimetype": "text/x-python",
   "name": "python",
   "nbconvert_exporter": "python",
   "pygments_lexer": "ipython3",
   "version": "3.9.13"
  }
 },
 "nbformat": 4,
 "nbformat_minor": 5
}
