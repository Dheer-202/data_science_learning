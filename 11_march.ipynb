{
 "cells": [
  {
   "cell_type": "code",
   "execution_count": 39,
   "id": "ab436ed0",
   "metadata": {},
   "outputs": [],
   "source": [
    "import numpy as np\n",
    "import pandas as pd\n",
    "import scipy.stats as ss\n",
    "import matplotlib.pyplot as plt"
   ]
  },
  {
   "cell_type": "code",
   "execution_count": 40,
   "id": "1cc0ec0e",
   "metadata": {},
   "outputs": [
    {
     "name": "stdout",
     "output_type": "stream",
     "text": [
      "Z-test is used when sample size is greater than 30, T-test is used when sample size is less than 30.\n"
     ]
    }
   ],
   "source": [
    "#ques 1\n",
    "print(\"Z-test is used when sample size is greater than 30, T-test is used when sample size is less than 30.\")"
   ]
  },
  {
   "cell_type": "code",
   "execution_count": 41,
   "id": "c9501813",
   "metadata": {},
   "outputs": [
    {
     "name": "stdout",
     "output_type": "stream",
     "text": [
      "In Two tailed test, we have two critical points and if Statistic value fall in this range then we accept Null hypothesis, While in one tailed test there is one critical points. \n"
     ]
    }
   ],
   "source": [
    "#ques 2\n",
    "print('''In Two tailed test, we have two critical points and if Statistic value fall in this range then we accept Null hypothesis, While in one tailed test there is one critical points. ''')"
   ]
  },
  {
   "cell_type": "code",
   "execution_count": 42,
   "id": "7f17e848",
   "metadata": {},
   "outputs": [
    {
     "name": "stdout",
     "output_type": "stream",
     "text": [
      "\n",
      "Type 1 error occurs when Null hypothsis is rejected but it is true in population.\n",
      "Type 2 error occurs when Null hypothesis is failed to reject but it is false in population.\n",
      "\n"
     ]
    }
   ],
   "source": [
    "#ques 3\n",
    "print('''\n",
    "Type 1 error occurs when Null hypothsis is rejected but it is true in population.\n",
    "Type 2 error occurs when Null hypothesis is failed to reject but it is false in population.\n",
    "''')"
   ]
  },
  {
   "cell_type": "code",
   "execution_count": 43,
   "id": "908b3102",
   "metadata": {},
   "outputs": [
    {
     "name": "stdout",
     "output_type": "stream",
     "text": [
      "\n",
      "confidence interval is probability that parametre of population will fall under region of values calculated by probability distribution and significance level.\n",
      "\n",
      "confidence interval for population = (sample_mean-(statistic_value*sample_deviation)/np.sqrt(sample_size),sample_mean+(statistic_value*sample_deviation)/np.sqrt(sample_size))\n",
      "\n",
      "\n"
     ]
    }
   ],
   "source": [
    "#ques 5\n",
    "print('''\n",
    "confidence interval is probability that parametre of population will fall under region of values calculated by probability distribution and significance level.\n",
    "\n",
    "confidence interval for population = (sample_mean-(statistic_value*sample_deviation)/np.sqrt(sample_size),sample_mean+(statistic_value*sample_deviation)/np.sqrt(sample_size))\n",
    "\n",
    "''')"
   ]
  },
  {
   "cell_type": "code",
   "execution_count": 44,
   "id": "185a98b2",
   "metadata": {},
   "outputs": [
    {
     "name": "stdout",
     "output_type": "stream",
     "text": [
      "\n",
      "Assuming Z distribution,\n",
      "and for two tailed test\n",
      "\n",
      "Confidence interval is: (40.200180077299734, 59.799819922700266)\n"
     ]
    }
   ],
   "source": [
    "#ques 7\n",
    "confidence_level= 0.95\n",
    "sample_mean = 50\n",
    "sample_std = 5\n",
    "print('''\n",
    "Assuming Z distribution,\n",
    "and for two tailed test\n",
    "''')\n",
    "z_statistics = ss.norm.ppf(0.975)\n",
    "confidence_interval = (sample_mean-z_statistics*sample_std, sample_mean+z_statistics*sample_std)\n",
    "print(\"Confidence interval is:\", confidence_interval)"
   ]
  },
  {
   "cell_type": "code",
   "execution_count": 45,
   "id": "d364162f",
   "metadata": {},
   "outputs": [
    {
     "name": "stdout",
     "output_type": "stream",
     "text": [
      "Z score:  1.0\n"
     ]
    }
   ],
   "source": [
    "#ques 9\n",
    "sample_mean1 = 75\n",
    "population_mean =70\n",
    "population_std = 5\n",
    "\n",
    "z_score= (sample_mean1-population_mean)/population_std\n",
    "\n",
    "print('Z score: ', z_score)"
   ]
  },
  {
   "cell_type": "code",
   "execution_count": 46,
   "id": "77425389",
   "metadata": {},
   "outputs": [
    {
     "name": "stdout",
     "output_type": "stream",
     "text": [
      "\n",
      "Since each Employee has two options either 'satisfied' or 'not satisfied'\n",
      "p('satisfied') = 0.5\n",
      "p('notsatisfied') = 0.5\n",
      "The Population distribution is following Binomial distribution\n",
      "Hence, mean = np\n",
      "variance = np(1-p)\n",
      "\n",
      "Proportion of Population: (0.606173872971171, 0.6938261270288291)\n"
     ]
    }
   ],
   "source": [
    "#ques 11\n",
    "print('''\n",
    "Since each Employee has two options either 'satisfied' or 'not satisfied'\n",
    "p('satisfied') = 0.5\n",
    "p('notsatisfied') = 0.5\n",
    "The Population distribution is following Binomial distribution\n",
    "Hence, mean = np\n",
    "variance = np(1-p)\n",
    "''')\n",
    "sample_mean2 = 0.65\n",
    "variance_population = 500*0.5*0.5\n",
    "std_pop = np.sqrt(variance_population)\n",
    "\n",
    "z_stat = ss.norm.ppf(0.975)\n",
    "\n",
    "population_proportion = (sample_mean2-z_stat*(std_pop/500),sample_mean2+z_stat*(std_pop)/500)\n",
    "print(\"Proportion of Population:\",population_proportion)"
   ]
  },
  {
   "cell_type": "code",
   "execution_count": 47,
   "id": "28bfdbeb",
   "metadata": {},
   "outputs": [
    {
     "name": "stdout",
     "output_type": "stream",
     "text": [
      "\n",
      "H0: both teaching methods do not have a significance difference, mean_a == mean_b\n",
      "H1: there is defference in both teaching methods, mean_a!=mean_b\n",
      "\n",
      "Since we don't have standard deviation of population so we  will use T-distribution.\n",
      "we will examine a two tailed test for this problem.\n",
      "\n",
      "We are not given the no of sample, So assuming no of samples to be equal to 100.\n",
      "\n",
      "For null hypothesis, there  is no difference between teachinng methods, So (ean_a-mean_b == 0)\n",
      "\n",
      "Null hypothesis is rejected\n"
     ]
    }
   ],
   "source": [
    "#ques 12\n",
    "sample_a = 85\n",
    "std_a = 6\n",
    "sample_b = 82\n",
    "std_b = 5\n",
    "print('''\n",
    "H0: both teaching methods do not have a significance difference, mean_a == mean_b\n",
    "H1: there is defference in both teaching methods, mean_a!=mean_b\n",
    "\n",
    "Since we don't have standard deviation of population so we  will use T-distribution.\n",
    "we will examine a two tailed test for this problem.\n",
    "\n",
    "We are not given the no of sample, So assuming no of samples to be equal to 100.\n",
    "\n",
    "For null hypothesis, there  is no difference between teachinng methods, So (ean_a-mean_b == 0)\n",
    "''')\n",
    "\n",
    "n_samples = 100\n",
    "T_statistics = (sample_a-sample_b)/(np.sqrt((std_a**2+std_b**2)/100))\n",
    "\n",
    "t_val = ss.t.ppf(1-0.005, df = 100)\n",
    "\n",
    "if abs(T_statistics)<t_val:\n",
    "    print('Null hypothesis is failed to reject')\n",
    "else:\n",
    "    print('Null hypothesis is rejected')"
   ]
  },
  {
   "cell_type": "code",
   "execution_count": 48,
   "id": "32152abd",
   "metadata": {},
   "outputs": [
    {
     "name": "stdout",
     "output_type": "stream",
     "text": [
      "\n",
      "Since population standard deviation is known and sample size is more than 30, so we will use Z-distribbution.\n",
      "we will find confidence interval for two tailed test.\n",
      "\n",
      "Confidence interval of Population mean: (63.13906055411732, 66.86093944588268)\n"
     ]
    }
   ],
   "source": [
    "# ques 13\n",
    "pop_mean = 60\n",
    "pop_std = 8\n",
    "sample_mean_a = 65\n",
    "sample_n = 50\n",
    "print('''\n",
    "Since population standard deviation is known and sample size is more than 30, so we will use Z-distribbution.\n",
    "we will find confidence interval for two tailed test.\n",
    "''')\n",
    "z_val = ss.norm.ppf(0.95)\n",
    "\n",
    "population_mean1 = (sample_mean_a-(z_val*pop_std)/np.sqrt(sample_n),sample_mean_a+(z_val*pop_std)/np.sqrt(sample_n))\n",
    "\n",
    "print('Confidence interval of Population mean:', population_mean1)"
   ]
  },
  {
   "cell_type": "code",
   "execution_count": null,
   "id": "60683de0",
   "metadata": {},
   "outputs": [],
   "source": []
  },
  {
   "cell_type": "code",
   "execution_count": null,
   "id": "2c780343",
   "metadata": {},
   "outputs": [],
   "source": []
  },
  {
   "cell_type": "code",
   "execution_count": null,
   "id": "a3af72cc",
   "metadata": {},
   "outputs": [],
   "source": []
  },
  {
   "cell_type": "code",
   "execution_count": null,
   "id": "a1c14eb8",
   "metadata": {},
   "outputs": [],
   "source": []
  },
  {
   "cell_type": "code",
   "execution_count": null,
   "id": "9ec32a4f",
   "metadata": {},
   "outputs": [],
   "source": []
  },
  {
   "cell_type": "code",
   "execution_count": null,
   "id": "a59e9fe5",
   "metadata": {},
   "outputs": [],
   "source": []
  },
  {
   "cell_type": "code",
   "execution_count": null,
   "id": "7e7e42ff",
   "metadata": {},
   "outputs": [],
   "source": []
  },
  {
   "cell_type": "code",
   "execution_count": null,
   "id": "713461df",
   "metadata": {},
   "outputs": [],
   "source": []
  },
  {
   "cell_type": "code",
   "execution_count": null,
   "id": "89d822aa",
   "metadata": {},
   "outputs": [],
   "source": []
  },
  {
   "cell_type": "code",
   "execution_count": null,
   "id": "29783768",
   "metadata": {},
   "outputs": [],
   "source": []
  },
  {
   "cell_type": "code",
   "execution_count": null,
   "id": "6df4609f",
   "metadata": {},
   "outputs": [],
   "source": []
  },
  {
   "cell_type": "code",
   "execution_count": null,
   "id": "7c0fe557",
   "metadata": {},
   "outputs": [],
   "source": []
  },
  {
   "cell_type": "code",
   "execution_count": null,
   "id": "5272667f",
   "metadata": {},
   "outputs": [],
   "source": []
  },
  {
   "cell_type": "code",
   "execution_count": null,
   "id": "f8f221c0",
   "metadata": {},
   "outputs": [],
   "source": []
  },
  {
   "cell_type": "code",
   "execution_count": null,
   "id": "ff28c64c",
   "metadata": {},
   "outputs": [],
   "source": []
  },
  {
   "cell_type": "code",
   "execution_count": null,
   "id": "70b605cc",
   "metadata": {},
   "outputs": [],
   "source": []
  },
  {
   "cell_type": "code",
   "execution_count": null,
   "id": "7397faaf",
   "metadata": {},
   "outputs": [],
   "source": []
  }
 ],
 "metadata": {
  "kernelspec": {
   "display_name": "Python 3 (ipykernel)",
   "language": "python",
   "name": "python3"
  },
  "language_info": {
   "codemirror_mode": {
    "name": "ipython",
    "version": 3
   },
   "file_extension": ".py",
   "mimetype": "text/x-python",
   "name": "python",
   "nbconvert_exporter": "python",
   "pygments_lexer": "ipython3",
   "version": "3.9.13"
  }
 },
 "nbformat": 4,
 "nbformat_minor": 5
}
