{
 "cells": [
  {
   "cell_type": "code",
   "execution_count": 10,
   "id": "eeef59bb",
   "metadata": {},
   "outputs": [
    {
     "name": "stdout",
     "output_type": "stream",
     "text": [
      "Min-Max scaling is a method for scaling of data in range of 0 to 1. It formula is (Xi-Xmin)/(Xmax-Xi).\n"
     ]
    }
   ],
   "source": [
    "#Ans 1\n",
    "print('''Min-Max scaling is a method for scaling of data in range of 0 to 1. It formula is (Xi-Xmin)/(Xmax-Xi).''')"
   ]
  },
  {
   "cell_type": "code",
   "execution_count": 11,
   "id": "ce6b50e2",
   "metadata": {},
   "outputs": [
    {
     "name": "stdout",
     "output_type": "stream",
     "text": [
      "In Unit vector scaling, feature values are scaled such that sum of squares of each values is equal to 1. \n"
     ]
    }
   ],
   "source": [
    "#Ans 2\n",
    "print('''In Unit vector scaling, feature values are scaled such that sum of squares of each values is equal to 1. ''')"
   ]
  },
  {
   "cell_type": "code",
   "execution_count": 12,
   "id": "2a38ad39",
   "metadata": {},
   "outputs": [
    {
     "name": "stdout",
     "output_type": "stream",
     "text": [
      " PCA is an unsupervised algorithm used for dimension reduction of  features. It converts observation of correlated features into linearly uncorrelated features with the help of orthogonal transformation.\n"
     ]
    }
   ],
   "source": [
    "#ANS 3\n",
    "print(''' PCA is an unsupervised algorithm used for dimension reduction of  features. It converts observation of correlated features into linearly uncorrelated features with the help of orthogonal transformation.''')"
   ]
  },
  {
   "cell_type": "code",
   "execution_count": 13,
   "id": "401825e3",
   "metadata": {},
   "outputs": [
    {
     "name": "stdout",
     "output_type": "stream",
     "text": [
      "The only way PCA is a valid method of feature selection is if the most important variables are the ones that happen to have the most variation in them. However this is usually not true.\n"
     ]
    }
   ],
   "source": [
    "#Ans 4\n",
    "print('''The only way PCA is a valid method of feature selection is if the most important variables are the ones that happen to have the most variation in them. However this is usually not true.''')"
   ]
  },
  {
   "cell_type": "code",
   "execution_count": 14,
   "id": "1fa6dd4e",
   "metadata": {},
   "outputs": [
    {
     "name": "stdout",
     "output_type": "stream",
     "text": [
      "To reprocess the data, aplly the formula (Xi-Xmin)/(Xmax-Xi). \n"
     ]
    }
   ],
   "source": [
    "#ANS 5\n",
    "print(\"To reprocess the data, aplly the formula (Xi-Xmin)/(Xmax-Xi). \")"
   ]
  },
  {
   "cell_type": "code",
   "execution_count": 15,
   "id": "2d6f8bec",
   "metadata": {},
   "outputs": [
    {
     "data": {
      "text/plain": [
       "array([[0.        ],\n",
       "       [0.21052632],\n",
       "       [0.47368421],\n",
       "       [0.73684211],\n",
       "       [1.        ]])"
      ]
     },
     "execution_count": 15,
     "metadata": {},
     "output_type": "execute_result"
    }
   ],
   "source": [
    "#ANS 7\n",
    "import pandas as pd\n",
    "data = pd.DataFrame([1,5,10,15,20])\n",
    "from sklearn.preprocessing import MinMaxScaler\n",
    "fun = MinMaxScaler()\n",
    "fun.fit_transform(data)"
   ]
  }
 ],
 "metadata": {
  "kernelspec": {
   "display_name": "Python 3 (ipykernel)",
   "language": "python",
   "name": "python3"
  },
  "language_info": {
   "codemirror_mode": {
    "name": "ipython",
    "version": 3
   },
   "file_extension": ".py",
   "mimetype": "text/x-python",
   "name": "python",
   "nbconvert_exporter": "python",
   "pygments_lexer": "ipython3",
   "version": "3.9.13"
  }
 },
 "nbformat": 4,
 "nbformat_minor": 5
}
