{
 "cells": [
  {
   "cell_type": "code",
   "execution_count": 4,
   "id": "f63fbe0e",
   "metadata": {},
   "outputs": [
    {
     "name": "stdout",
     "output_type": "stream",
     "text": [
      "Overfiting case of fitting of data when model give high accuracy on training dataset and low accuracy on test dataset. It results low bias and high variance.\n",
      "Underfitting is when model give less accuracy on both trainig  and test dataset. It results in high bias and high variance.\n"
     ]
    }
   ],
   "source": [
    "#ANS 1 \n",
    "print('''Overfiting case of fitting of data when model give high accuracy on training dataset and low accuracy on test dataset. It results low bias and high variance.\n",
    "Underfitting is when model give less accuracy on both trainig  and test dataset. It results in high bias and high variance.''')"
   ]
  },
  {
   "cell_type": "code",
   "execution_count": 5,
   "id": "36eda194",
   "metadata": {},
   "outputs": [
    {
     "name": "stdout",
     "output_type": "stream",
     "text": [
      "Over fitting can be reduced by Increasing training dataset size, reducing model complexity, ridge and lasso regularization.\n"
     ]
    }
   ],
   "source": [
    "#ANS 2\n",
    "print('''Over fitting can be reduced by Increasing training dataset size, reducing model complexity, ridge and lasso regularization.''')"
   ]
  },
  {
   "cell_type": "code",
   "execution_count": 6,
   "id": "49f97185",
   "metadata": {},
   "outputs": [
    {
     "name": "stdout",
     "output_type": "stream",
     "text": [
      "Underfitting is case when model is not able to find the trend of dataset. Under fitting occurs when there is high bias and high variance.\n"
     ]
    }
   ],
   "source": [
    "#ANS 3\n",
    "print('''Underfitting is case when model is not able to find the trend of dataset. Under fitting occurs when there is high bias and high variance.''')"
   ]
  },
  {
   "cell_type": "code",
   "execution_count": 7,
   "id": "ffb51d04",
   "metadata": {},
   "outputs": [
    {
     "name": "stdout",
     "output_type": "stream",
     "text": [
      "Bias and Variance are inversely related. High bias introduces large variation in predicted data from actual data. High Variance makes model not able to predict correct values for new inputs. \n"
     ]
    }
   ],
   "source": [
    "#ANS 4\n",
    "print('''Bias and Variance are inversely related. High bias introduces large variation in predicted data from actual data. High Variance makes model not able to predict correct values for new inputs. ''')"
   ]
  },
  {
   "cell_type": "code",
   "execution_count": 8,
   "id": "0288ecb2",
   "metadata": {},
   "outputs": [
    {
     "name": "stdout",
     "output_type": "stream",
     "text": [
      "Overfitting and Underfitting can be predicted by calculationg prediction error on training and test data.\n"
     ]
    }
   ],
   "source": [
    "#ANS 5\n",
    "print(\"Overfitting and Underfitting can be predicted by calculationg prediction error on training and test data.\")"
   ]
  },
  {
   "cell_type": "code",
   "execution_count": 9,
   "id": "c17c5d06",
   "metadata": {},
   "outputs": [
    {
     "name": "stdout",
     "output_type": "stream",
     "text": [
      "Regularization is a technique of introducing some error already in algorithms for training of model. As in overfitting model tries to fit all values, then by introducing a error we can prevent it and while giving a new input it can predict with less errors. \n"
     ]
    }
   ],
   "source": [
    "#Ans 7\n",
    "print('''Regularization is a technique of introducing some error already in algorithms for training of model. As in overfitting model tries to fit all values, then by introducing a error we can prevent it and while giving a new input it can predict with less errors. ''')"
   ]
  }
 ],
 "metadata": {
  "kernelspec": {
   "display_name": "Python 3 (ipykernel)",
   "language": "python",
   "name": "python3"
  },
  "language_info": {
   "codemirror_mode": {
    "name": "ipython",
    "version": 3
   },
   "file_extension": ".py",
   "mimetype": "text/x-python",
   "name": "python",
   "nbconvert_exporter": "python",
   "pygments_lexer": "ipython3",
   "version": "3.9.13"
  }
 },
 "nbformat": 4,
 "nbformat_minor": 5
}
