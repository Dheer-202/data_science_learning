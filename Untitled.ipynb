{
 "cells": [
  {
   "cell_type": "code",
   "execution_count": null,
   "id": "dd0a6884",
   "metadata": {},
   "outputs": [],
   "source": [
    "#quess 1\n",
    "print(\"Statistics is application of mathematics on data to analyze it and draw some important  conclusions from data.\")"
   ]
  },
  {
   "cell_type": "code",
   "execution_count": null,
   "id": "a5511321",
   "metadata": {},
   "outputs": [],
   "source": [
    "# ques 2\n",
    "\"There are two types of Statistics: Inferential and Descriptive Statistics\"\n",
    "\"Descriptive Statistics is used do calculation on data and inferential statistics is used draw conclusion from results of descriptive statistics.\""
   ]
  },
  {
   "cell_type": "code",
   "execution_count": null,
   "id": "0c4dd88e",
   "metadata": {},
   "outputs": [],
   "source": [
    "#ques 3\n",
    "print(\"there are two types of data: Numerical/Quantitative and Categorical/Qualitative Data\")\n",
    "print(\"Numerical data includes data in form of real numbers on which calculations can be performed. Categorical Data includes data in form of numbers, string or Boolean values on which calculation can't be performed.\")"
   ]
  },
  {
   "cell_type": "code",
   "execution_count": null,
   "id": "7d7a560d",
   "metadata": {},
   "outputs": [],
   "source": [
    "#ques 4\n",
    "print('''\n",
    "1. Qualitative data\n",
    "2. Qualitative data\n",
    "3. Quantitative data\n",
    "4. Quantitative data\n",
    "''')"
   ]
  },
  {
   "cell_type": "code",
   "execution_count": null,
   "id": "a48d41ab",
   "metadata": {},
   "outputs": [],
   "source": [
    "#ques 7\n",
    "\n",
    "\"Ordinal data ar type of categorical variable in which there exist a order of classes. while in Nominal type there is no order of classes\""
   ]
  },
  {
   "cell_type": "code",
   "execution_count": null,
   "id": "0a008cfa",
   "metadata": {},
   "outputs": [],
   "source": [
    "#ques 8\n",
    "\n",
    "\"histogram can be used to display data in terms of range\""
   ]
  },
  {
   "cell_type": "code",
   "execution_count": null,
   "id": "0707fd8f",
   "metadata": {},
   "outputs": [],
   "source": [
    "#ques 9 \n",
    "\" Descriotive statistics give characteristics and statistic values. while Inferential statisitics draws some conclusion and do prdicction and hypothesis.\""
   ]
  },
  {
   "cell_type": "code",
   "execution_count": null,
   "id": "0cda0e58",
   "metadata": {},
   "outputs": [],
   "source": [
    "#ques 10\n",
    "\n",
    "\"some common central tendency and variability are mean, median, mode, variance, standard deviation etc.\""
   ]
  },
  {
   "cell_type": "code",
   "execution_count": null,
   "id": "01b013d7",
   "metadata": {},
   "outputs": [],
   "source": []
  },
  {
   "cell_type": "code",
   "execution_count": null,
   "id": "408fb372",
   "metadata": {},
   "outputs": [],
   "source": []
  }
 ],
 "metadata": {
  "kernelspec": {
   "display_name": "Python 3 (ipykernel)",
   "language": "python",
   "name": "python3"
  },
  "language_info": {
   "codemirror_mode": {
    "name": "ipython",
    "version": 3
   },
   "file_extension": ".py",
   "mimetype": "text/x-python",
   "name": "python",
   "nbconvert_exporter": "python",
   "pygments_lexer": "ipython3",
   "version": "3.9.13"
  }
 },
 "nbformat": 4,
 "nbformat_minor": 5
}
