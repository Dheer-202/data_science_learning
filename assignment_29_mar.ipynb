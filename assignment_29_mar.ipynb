{
 "cells": [
  {
   "cell_type": "code",
   "execution_count": 1,
   "id": "31a10f52",
   "metadata": {},
   "outputs": [
    {
     "name": "stdout",
     "output_type": "stream",
     "text": [
      "Lasso stands for Least Absolute Shrinkage and Selection Operator. This regression technique uses method of shrinkage of data points to central point as mean. This model is well suited for data showing high level of multicolinearity. This is also known as L1 regularization. This technique is used when we have more features as it also does job of feature of selection. \n"
     ]
    }
   ],
   "source": [
    "print(\"Lasso stands for Least Absolute Shrinkage and Selection Operator. This regression technique uses method of shrinkage of data points to central point as mean. This model is well suited for data showing high level of multicolinearity. This is also known as L1 regularization. This technique is used when we have more features as it also does job of feature of selection. \")"
   ]
  },
  {
   "cell_type": "code",
   "execution_count": 2,
   "id": "bab252ce",
   "metadata": {},
   "outputs": [
    {
     "name": "stdout",
     "output_type": "stream",
     "text": [
      "The advantage of using lasso is that it reduces the coefficient of less correlated variable with target to zero. It automates the work of feature selection.\n"
     ]
    }
   ],
   "source": [
    "print('The advantage of using lasso is that it reduces the coefficient of less correlated variable with target to zero. It automates the work of feature selection.')"
   ]
  },
  {
   "cell_type": "code",
   "execution_count": 3,
   "id": "acf93064",
   "metadata": {},
   "outputs": [
    {
     "name": "stdout",
     "output_type": "stream",
     "text": [
      "Higher the coefficient of variable, variable is of much importance. Smaller the coefficient of variables, less important is the variable. Hence, low coefficient variable can be droped off.\n"
     ]
    }
   ],
   "source": [
    "print(\"Higher the coefficient of variable, variable is of much importance. Smaller the coefficient of variables, less important is the variable. Hence, low coefficient variable can be droped off.\")"
   ]
  },
  {
   "cell_type": "code",
   "execution_count": 5,
   "id": "350f9c26",
   "metadata": {},
   "outputs": [
    {
     "name": "stdout",
     "output_type": "stream",
     "text": [
      "Tuning parameter is lamda. It enhance the model performance by adding extra error to the cost function and hence, reducing the effect of less correlated variable on prediction. \n"
     ]
    }
   ],
   "source": [
    "print(\"Tuning parameter is lamda. It enhance the model performance by adding extra error to the cost function and hence, reducing the effect of less correlated variable on prediction. \")"
   ]
  },
  {
   "cell_type": "code",
   "execution_count": 6,
   "id": "ea30a137",
   "metadata": {},
   "outputs": [
    {
     "name": "stdout",
     "output_type": "stream",
     "text": [
      "\n",
      "The main work in LASSO is to add a penalty term of lamda times the sum of squares of coefficient.\n",
      "I think it can be applied to non-linear regression by transforming degree coefficients to Zi's. \n",
      "If Y = a1x1+a2x2+a3x1x2+a4x1^2 a5x2^2 then it can be written as \n",
      "Y= a1z1+a2z2+a3z3+a4z4+a5z5\n",
      " and hence LASSO can be applied to these coefficients a1 to a5.\n",
      "\n"
     ]
    }
   ],
   "source": [
    "print('''\n",
    "The main work in LASSO is to add a penalty term of lamda times the sum of squares of coefficient.\n",
    "I think it can be applied to non-linear regression by transforming degree coefficients to Zi's. \n",
    "If Y = a1x1+a2x2+a3x1x2+a4x1^2 a5x2^2 then it can be written as \n",
    "Y= a1z1+a2z2+a3z3+a4z4+a5z5\n",
    " and hence LASSO can be applied to these coefficients a1 to a5.\n",
    "''')"
   ]
  },
  {
   "cell_type": "code",
   "execution_count": 7,
   "id": "eddb5562",
   "metadata": {},
   "outputs": [
    {
     "name": "stdout",
     "output_type": "stream",
     "text": [
      "\n",
      "The difference between ridge and lasso is of penalty term. In ridge, penalty term is sum of squares of coefficients while in lasso it is sum of mode of coefficients.\n",
      "\n"
     ]
    }
   ],
   "source": [
    "print('''\n",
    "The difference between ridge and lasso is of penalty term. In ridge, penalty term is sum of squares of coefficients while in lasso it is sum of mode of coefficients.\n",
    "''')"
   ]
  },
  {
   "cell_type": "code",
   "execution_count": 8,
   "id": "909d1267",
   "metadata": {},
   "outputs": [
    {
     "name": "stdout",
     "output_type": "stream",
     "text": [
      "\n",
      "LASSO can handle the multicolinearity.\n",
      "\n"
     ]
    }
   ],
   "source": [
    "print('''\n",
    "LASSO can handle the multicolinearity.p\n",
    "''')"
   ]
  },
  {
   "cell_type": "code",
   "execution_count": 9,
   "id": "f095c969",
   "metadata": {},
   "outputs": [
    {
     "name": "stdout",
     "output_type": "stream",
     "text": [
      "The optimal value of lamda is choossen by k-fold cross validation.\n"
     ]
    }
   ],
   "source": [
    "print(\"The optimal value of lamda is choossen by k-fold cross validation.\")"
   ]
  },
  {
   "cell_type": "code",
   "execution_count": null,
   "id": "9a2ab3e8",
   "metadata": {},
   "outputs": [],
   "source": []
  },
  {
   "cell_type": "code",
   "execution_count": null,
   "id": "d03d2bc2",
   "metadata": {},
   "outputs": [],
   "source": []
  },
  {
   "cell_type": "code",
   "execution_count": null,
   "id": "f2724bcc",
   "metadata": {},
   "outputs": [],
   "source": []
  },
  {
   "cell_type": "code",
   "execution_count": null,
   "id": "2e465824",
   "metadata": {},
   "outputs": [],
   "source": []
  },
  {
   "cell_type": "code",
   "execution_count": null,
   "id": "957d36c2",
   "metadata": {},
   "outputs": [],
   "source": []
  },
  {
   "cell_type": "code",
   "execution_count": null,
   "id": "32cb031d",
   "metadata": {},
   "outputs": [],
   "source": []
  },
  {
   "cell_type": "code",
   "execution_count": null,
   "id": "a2d809b8",
   "metadata": {},
   "outputs": [],
   "source": []
  },
  {
   "cell_type": "code",
   "execution_count": null,
   "id": "042b0895",
   "metadata": {},
   "outputs": [],
   "source": []
  },
  {
   "cell_type": "code",
   "execution_count": null,
   "id": "1a6884b8",
   "metadata": {},
   "outputs": [],
   "source": []
  }
 ],
 "metadata": {
  "kernelspec": {
   "display_name": "Python 3 (ipykernel)",
   "language": "python",
   "name": "python3"
  },
  "language_info": {
   "codemirror_mode": {
    "name": "ipython",
    "version": 3
   },
   "file_extension": ".py",
   "mimetype": "text/x-python",
   "name": "python",
   "nbconvert_exporter": "python",
   "pygments_lexer": "ipython3",
   "version": "3.9.13"
  }
 },
 "nbformat": 4,
 "nbformat_minor": 5
}
