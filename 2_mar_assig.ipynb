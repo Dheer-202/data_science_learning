{
 "cells": [
  {
   "cell_type": "code",
   "execution_count": null,
   "id": "988cc40b",
   "metadata": {},
   "outputs": [],
   "source": [
    "import numpy as np\n",
    "np.random.seed(3)\n",
    "x = 3 + np.random.normal(0, 2, 50)\n",
    "y = 3 + np.random.normal(0, 2, len(x))"
   ]
  },
  {
   "cell_type": "code",
   "execution_count": null,
   "id": "19aed91f",
   "metadata": {},
   "outputs": [],
   "source": [
    "import matplotlib.pyplot as plt"
   ]
  },
  {
   "cell_type": "code",
   "execution_count": null,
   "id": "c380621c",
   "metadata": {},
   "outputs": [],
   "source": [
    "print(\"Matplotlib is python library comprising all codes for ploting graphs. Bar plot, histogram, Scatter plot, lineplot and bos  plot are five plots tha can be plot using this library.\")"
   ]
  },
  {
   "cell_type": "code",
   "execution_count": null,
   "id": "04055ddf",
   "metadata": {},
   "outputs": [],
   "source": [
    "#quest 2\n",
    "print(\"Scatter Plot is graph of X and Y in which each point is shown in a dot format. \")\n",
    "plt.scatter(x,y)\n",
    "plt.title('X v/s Y')\n",
    "plt.xlabel(\"X-axis\")\n",
    "plt.ylabel(\"Y-axis\")\n",
    "plt.show()"
   ]
  },
  {
   "cell_type": "code",
   "execution_count": null,
   "id": "1adf2e16",
   "metadata": {},
   "outputs": [],
   "source": [
    "#ques 3\n",
    "print(\"A subplot is used to plot multiple plots in a single plot separately to compare each data set simultaneously.\")\n",
    "import numpy as np\n",
    "x1 = np.array([0, 1, 2, 3, 4, 5])\n",
    "y1 = np.array([0, 100, 200, 300, 400, 500])\n",
    "x2 = np.array([0, 1, 2, 3, 4, 5])\n",
    "y2 = np.array([50, 20, 40, 20, 60, 70])\n",
    "x3 = np.array([0, 1, 2, 3, 4, 5])\n",
    "y3 = np.array([10, 20, 30, 40, 50, 60])\n",
    "x4 = np.array([0, 1, 2, 3, 4, 5])\n",
    "y4 = np.array([200, 350, 250, 550, 450, 150])\n",
    "plt.subplot(2,2,1)\n",
    "plt.plot(x1,y1)\n",
    "plt.subplot(2,2,2)\n",
    "plt.plot(x2,y2)\n",
    "plt.subplot(2,2,3)\n",
    "plt.plot(x3,y3)\n",
    "plt.subplot(2,2,4)\n",
    "plt.plot(x4,y4)"
   ]
  },
  {
   "cell_type": "code",
   "execution_count": null,
   "id": "42b1ea8c",
   "metadata": {},
   "outputs": [],
   "source": [
    "#ques 4\n",
    "print(\"A bar plot is used to plot a stacked data set. It show relation between categoricaal data and numerical data.\")\n",
    "import numpy as np\n",
    "company = np.array([\"Apple\", \"Microsoft\", \"Google\", \"AMD\"])\n",
    "profit = np.array([3000, 8000, 1000, 10000])\n",
    "plt.bar(company,profit)"
   ]
  },
  {
   "cell_type": "code",
   "execution_count": null,
   "id": "4ad42216",
   "metadata": {},
   "outputs": [],
   "source": [
    "box1 = np.random.normal(100, 10, 200)\n",
    "box2 = np.random.normal(90, 20, 200)"
   ]
  },
  {
   "cell_type": "code",
   "execution_count": null,
   "id": "b3468f00",
   "metadata": {},
   "outputs": [],
   "source": [
    "#ques 5\n",
    "print(\"Box plot is used to show the median and distribution of data through quartiles and interquartiles by a graphical method.\")\n",
    "plt.boxplot((box2,box2),notch=True, vert= False)"
   ]
  },
  {
   "cell_type": "code",
   "execution_count": null,
   "id": "d2aab23e",
   "metadata": {},
   "outputs": [],
   "source": []
  },
  {
   "cell_type": "code",
   "execution_count": null,
   "id": "1b0c9765",
   "metadata": {},
   "outputs": [],
   "source": []
  }
 ],
 "metadata": {
  "kernelspec": {
   "display_name": "Python 3 (ipykernel)",
   "language": "python",
   "name": "python3"
  },
  "language_info": {
   "codemirror_mode": {
    "name": "ipython",
    "version": 3
   },
   "file_extension": ".py",
   "mimetype": "text/x-python",
   "name": "python",
   "nbconvert_exporter": "python",
   "pygments_lexer": "ipython3",
   "version": "3.9.13"
  }
 },
 "nbformat": 4,
 "nbformat_minor": 5
}
