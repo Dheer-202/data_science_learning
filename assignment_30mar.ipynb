{
 "cells": [
  {
   "cell_type": "code",
   "execution_count": 1,
   "id": "178b053b",
   "metadata": {},
   "outputs": [
    {
     "name": "stdout",
     "output_type": "stream",
     "text": [
      "Elastic net regression is a regularized linear model. it add penalty terms from both lasso and ridge.\n"
     ]
    }
   ],
   "source": [
    "print(\"Elastic net regression is a regularized linear model. it add penalty terms from both lasso and ridge.\")"
   ]
  },
  {
   "cell_type": "code",
   "execution_count": 2,
   "id": "cbadb9ac",
   "metadata": {},
   "outputs": [
    {
     "name": "stdout",
     "output_type": "stream",
     "text": [
      "Regularization parameters are assumed to be some value then it is undergoes k-fold cross validation for best value of lamda and alpha. \n"
     ]
    }
   ],
   "source": [
    "print(\"Regularization parameters are assumed to be some value then it is undergoes k-fold cross validation for best value of lamda and alpha. \")"
   ]
  },
  {
   "cell_type": "code",
   "execution_count": 3,
   "id": "dec34926",
   "metadata": {},
   "outputs": [
    {
     "name": "stdout",
     "output_type": "stream",
     "text": [
      "\n",
      "Advantages:\n",
      "-it can handle multicollinearity better than lasso and ridge.\n",
      "-Reduces overfitting\n",
      "-can perform feature selection.\n",
      "\n",
      "Disadvantages:\n",
      "-time consumption in tuning two regularizing parametres alpha and lamda.\n",
      "-it may not be interpretable or explainable.\n",
      "-may not be suitable for dataset having larger number of observation than number of predictors\n",
      "\n"
     ]
    }
   ],
   "source": [
    "print('''\n",
    "Advantages:\n",
    "-it can handle multicollinearity better than lasso and ridge.\n",
    "-Reduces overfitting\n",
    "-can perform feature selection.\n",
    "\n",
    "Disadvantages:\n",
    "-time consumption in tuning two regularizing parametres alpha and lamda.\n",
    "-it may not be interpretable or explainable.\n",
    "-may not be suitable for dataset having larger number of observation than number of predictors\n",
    "''')"
   ]
  },
  {
   "cell_type": "code",
   "execution_count": 4,
   "id": "b76b5b67",
   "metadata": {},
   "outputs": [
    {
     "name": "stdout",
     "output_type": "stream",
     "text": [
      "\n",
      "Elastic net can also be used in other applications, such as in sparse PCA, where it obtains principal components that are modified by sparse loadings.\n",
      "The other application is in the kernel elastic net, where the generation of class kernel machines takes place with support vectors\n",
      "\n"
     ]
    }
   ],
   "source": [
    "print('''\n",
    "Elastic net can also be used in other applications, such as in sparse PCA, where it obtains principal components that are modified by sparse loadings.\n",
    "The other application is in the kernel elastic net, where the generation of class kernel machines takes place with support vectors\n",
    "''')"
   ]
  },
  {
   "cell_type": "code",
   "execution_count": 5,
   "id": "a0605c17",
   "metadata": {},
   "outputs": [
    {
     "name": "stdout",
     "output_type": "stream",
     "text": [
      "coefficients represents linear relationship between predictors and target variable. Larger positive value of coefficient, highly positive effect on target of variable. larger negative value of coefficient, highly negative effectof variable on target. \n",
      "      If coefficient is zero then variable has no effect on target and feature can be removed or ignored.\n"
     ]
    }
   ],
   "source": [
    "print('''coefficients represents linear relationship between predictors and target variable. Larger positive value of coefficient, highly positive effect on target of variable. larger negative value of coefficient, highly negative effectof variable on target. \n",
    "      If coefficient is zero then variable has no effect on target and feature can be removed or ignored.''')"
   ]
  },
  {
   "cell_type": "code",
   "execution_count": 6,
   "id": "7a0bebae",
   "metadata": {},
   "outputs": [
    {
     "name": "stdout",
     "output_type": "stream",
     "text": [
      "\n",
      "Optimizing the regularizing parametres will reduces the coefficient of variables, having less effect on target, to zero. Hence, ignoring the less importance feature.\n",
      "\n"
     ]
    }
   ],
   "source": [
    "print('''\n",
    "Optimizing the regularizing parametres will reduces the coefficient of variables, having less effect on target, to zero. Hence, ignoring the less importance feature.\n",
    "''')"
   ]
  },
  {
   "cell_type": "code",
   "execution_count": 7,
   "id": "c99b0140",
   "metadata": {},
   "outputs": [
    {
     "name": "stdout",
     "output_type": "stream",
     "text": [
      "Pickle is done by funcltion pickle.dumb() from library pickle and unpickling is done by function pickle.load().\n"
     ]
    }
   ],
   "source": [
    "print(\"Pickle is done by funcltion pickle.dumb() from library pickle and unpickling is done by function pickle.load().\")"
   ]
  },
  {
   "cell_type": "code",
   "execution_count": 8,
   "id": "b6bbbc89",
   "metadata": {},
   "outputs": [
    {
     "name": "stdout",
     "output_type": "stream",
     "text": [
      "purpose of pickling is to deploy a trained model for uses by others.\n"
     ]
    }
   ],
   "source": [
    "print(\"purpose of pickling is to deploy a trained model for uses by others.\")"
   ]
  },
  {
   "cell_type": "code",
   "execution_count": null,
   "id": "ca3c5325",
   "metadata": {},
   "outputs": [],
   "source": []
  },
  {
   "cell_type": "code",
   "execution_count": null,
   "id": "27978b05",
   "metadata": {},
   "outputs": [],
   "source": []
  },
  {
   "cell_type": "code",
   "execution_count": null,
   "id": "086fe52c",
   "metadata": {},
   "outputs": [],
   "source": []
  },
  {
   "cell_type": "code",
   "execution_count": null,
   "id": "caeb260b",
   "metadata": {},
   "outputs": [],
   "source": []
  }
 ],
 "metadata": {
  "kernelspec": {
   "display_name": "Python 3 (ipykernel)",
   "language": "python",
   "name": "python3"
  },
  "language_info": {
   "codemirror_mode": {
    "name": "ipython",
    "version": 3
   },
   "file_extension": ".py",
   "mimetype": "text/x-python",
   "name": "python",
   "nbconvert_exporter": "python",
   "pygments_lexer": "ipython3",
   "version": "3.9.13"
  }
 },
 "nbformat": 4,
 "nbformat_minor": 5
}
