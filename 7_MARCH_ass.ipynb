{
 "cells": [
  {
   "cell_type": "code",
   "execution_count": 11,
   "id": "8ed6f384",
   "metadata": {},
   "outputs": [],
   "source": [
    "import numpy as np\n",
    "import pandas as pd\n",
    "import scipy.stats as sp"
   ]
  },
  {
   "cell_type": "code",
   "execution_count": 58,
   "id": "1d46b057",
   "metadata": {},
   "outputs": [
    {
     "data": {
      "text/plain": [
       "'three measure of central tendency are mean, median , mode'"
      ]
     },
     "execution_count": 58,
     "metadata": {},
     "output_type": "execute_result"
    }
   ],
   "source": [
    "#ques 1\n",
    "\"three measure of central tendency are mean, median , mode\""
   ]
  },
  {
   "cell_type": "code",
   "execution_count": 59,
   "id": "9e3c0106",
   "metadata": {},
   "outputs": [
    {
     "data": {
      "text/plain": [
       "'Mean is average value of all data, median is that observation value which is at n/2 th or n+1/2 th place, mode is that observational value which occur at most number of times.'"
      ]
     },
     "execution_count": 59,
     "metadata": {},
     "output_type": "execute_result"
    }
   ],
   "source": [
    "#ques 2\n",
    "\n",
    "\"Mean is average value of all data, median is that observation value which is at n/2 th or n+1/2 th place, mode is that observational value which occur at most number of times.\""
   ]
  },
  {
   "cell_type": "code",
   "execution_count": 2,
   "id": "03690d30",
   "metadata": {},
   "outputs": [],
   "source": [
    "#ques 3\n",
    "sd = np.array([178,177,176,177,178.2,178,175,179,180,175,178.9,176.2,177,172.5,178,176.5])\n",
    "mean = sd.mean()\n",
    "median = np.median(sd)\n",
    "mode = sp.mode(sd)"
   ]
  },
  {
   "cell_type": "code",
   "execution_count": 44,
   "id": "d1316c6f",
   "metadata": {},
   "outputs": [
    {
     "data": {
      "text/plain": [
       "1.7885814036548633"
      ]
     },
     "execution_count": 44,
     "metadata": {},
     "output_type": "execute_result"
    }
   ],
   "source": [
    "#ques 4\n",
    "\n",
    "at = pd.DataFrame([178,177,176,177,178.2,178,175,179,180,175,178.9,176.2,177,172.5,178,176.5], columns=('data',))\n",
    "at['mn-xsq'] = (at['data']-np.mean(at['data']))**2\n",
    "stad = np.sqrt(np.mean(at['mn-xsq']))\n",
    "stad"
   ]
  },
  {
   "cell_type": "code",
   "execution_count": 60,
   "id": "205beaa5",
   "metadata": {},
   "outputs": [
    {
     "data": {
      "text/plain": [
       "'Venn diagram is graphical representation of observation of datas'"
      ]
     },
     "execution_count": 60,
     "metadata": {},
     "output_type": "execute_result"
    }
   ],
   "source": [
    "#ques 6\n",
    "\"Venn diagram is graphical representation of observation of datas\""
   ]
  },
  {
   "cell_type": "code",
   "execution_count": 54,
   "id": "871da5e0",
   "metadata": {},
   "outputs": [],
   "source": [
    "#ques 7\n",
    "A = {2,3,4,5,6,7}\n",
    "B = {0,2,6,8,10}"
   ]
  },
  {
   "cell_type": "code",
   "execution_count": 55,
   "id": "42bf53b0",
   "metadata": {},
   "outputs": [
    {
     "data": {
      "text/plain": [
       "{2, 6}"
      ]
     },
     "execution_count": 55,
     "metadata": {},
     "output_type": "execute_result"
    }
   ],
   "source": [
    "# i)\n",
    "A.intersection(B)"
   ]
  },
  {
   "cell_type": "code",
   "execution_count": 56,
   "id": "21fba5a8",
   "metadata": {},
   "outputs": [
    {
     "data": {
      "text/plain": [
       "{0, 2, 3, 4, 5, 6, 7, 8, 10}"
      ]
     },
     "execution_count": 56,
     "metadata": {},
     "output_type": "execute_result"
    }
   ],
   "source": [
    "# ii)\n",
    "A.union(B)"
   ]
  },
  {
   "cell_type": "code",
   "execution_count": 61,
   "id": "3de8807e",
   "metadata": {},
   "outputs": [
    {
     "data": {
      "text/plain": [
       "'skewness tell about distribution of data whether symmetric or not.'"
      ]
     },
     "execution_count": 61,
     "metadata": {},
     "output_type": "execute_result"
    }
   ],
   "source": [
    "#ques 8\n",
    "\n",
    "\"skewness tell about distribution of data whether symmetric or not.\"\n"
   ]
  },
  {
   "cell_type": "code",
   "execution_count": 62,
   "id": "3e9fd610",
   "metadata": {},
   "outputs": [
    {
     "data": {
      "text/plain": [
       "'median will be higer than mean'"
      ]
     },
     "execution_count": 62,
     "metadata": {},
     "output_type": "execute_result"
    }
   ],
   "source": [
    "#ques 9\n",
    "\"median will be higer than mean\""
   ]
  },
  {
   "cell_type": "code",
   "execution_count": null,
   "id": "9fb8b60e",
   "metadata": {},
   "outputs": [],
   "source": []
  },
  {
   "cell_type": "code",
   "execution_count": null,
   "id": "e48e209c",
   "metadata": {},
   "outputs": [],
   "source": []
  },
  {
   "cell_type": "code",
   "execution_count": null,
   "id": "fa718585",
   "metadata": {},
   "outputs": [],
   "source": []
  }
 ],
 "metadata": {
  "kernelspec": {
   "display_name": "Python 3 (ipykernel)",
   "language": "python",
   "name": "python3"
  },
  "language_info": {
   "codemirror_mode": {
    "name": "ipython",
    "version": 3
   },
   "file_extension": ".py",
   "mimetype": "text/x-python",
   "name": "python",
   "nbconvert_exporter": "python",
   "pygments_lexer": "ipython3",
   "version": "3.9.13"
  }
 },
 "nbformat": 4,
 "nbformat_minor": 5
}
