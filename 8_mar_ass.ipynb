{
 "cells": [
  {
   "cell_type": "code",
   "execution_count": 112,
   "id": "3697b652",
   "metadata": {},
   "outputs": [],
   "source": [
    "import scipy.stats as st\n",
    "import numpy as np\n",
    "import matplotlib.pyplot as plt"
   ]
  },
  {
   "cell_type": "code",
   "execution_count": 113,
   "id": "48bfa645",
   "metadata": {},
   "outputs": [
    {
     "name": "stdout",
     "output_type": "stream",
     "text": [
      "enter a number: 5\n"
     ]
    },
    {
     "data": {
      "text/plain": [
       "1.4867195147342979e-06"
      ]
     },
     "execution_count": 113,
     "metadata": {},
     "output_type": "execute_result"
    }
   ],
   "source": [
    "#ques 3\n",
    "n = int(input(\"enter a number: \"))\n",
    "st.norm(0,1).pdf(n)"
   ]
  },
  {
   "cell_type": "code",
   "execution_count": 114,
   "id": "13c09fae",
   "metadata": {},
   "outputs": [
    {
     "data": {
      "image/png": "[encoded data removed]",
      "text/plain": [
       "<Figure size 640x480 with 1 Axes>"
      ]
     },
     "metadata": {},
     "output_type": "display_data"
    }
   ],
   "source": [
    "#ques 5\n",
    "a = np.random.binomial(n = 1, size = 1000, p = 0.4)\n",
    "plt.hist(x = a)\n",
    "plt.show()"
   ]
  },
  {
   "cell_type": "code",
   "execution_count": 117,
   "id": "55c955b7",
   "metadata": {},
   "outputs": [
    {
     "name": "stdout",
     "output_type": "stream",
     "text": [
      "enter the mean:8\n",
      "enter the point till which we want cdf:5\n"
     ]
    },
    {
     "data": {
      "text/plain": [
       "0.19123606207962532"
      ]
     },
     "execution_count": 117,
     "metadata": {},
     "output_type": "execute_result"
    }
   ],
   "source": [
    "#ques 6\n",
    "mean = int(input(\"enter the mean:\"))\n",
    "n = int(input(\"enter the point till which we want cdf:\"))\n",
    "st.poisson(mu = mean).cdf(n)"
   ]
  },
  {
   "cell_type": "code",
   "execution_count": 119,
   "id": "f3afe08b",
   "metadata": {},
   "outputs": [
    {
     "data": {
      "text/plain": [
       "'binomial dist give the probability of number of succes out of given number of trials while poisson dist gibes the probability of occuring of events in given time interval.'"
      ]
     },
     "execution_count": 119,
     "metadata": {},
     "output_type": "execute_result"
    }
   ],
   "source": [
    "#ques 7\n",
    "\"binomial dist give the probability of number of succes out of given number of trials while poisson dist gibes the probability of occuring of events in given time interval.\""
   ]
  },
  {
   "cell_type": "code",
   "execution_count": 118,
   "id": "1d9afc4b",
   "metadata": {},
   "outputs": [
    {
     "name": "stdout",
     "output_type": "stream",
     "text": [
      "4.899 4.974799\n"
     ]
    }
   ],
   "source": [
    "#ques 8\n",
    "ba= np.random.poisson(lam = 5, size = 1000)\n",
    "print(np.mean(ba), np.var(ba))"
   ]
  },
  {
   "cell_type": "code",
   "execution_count": null,
   "id": "1452bbb0",
   "metadata": {},
   "outputs": [],
   "source": [
    "#ques 9\n",
    "\"In poisson dist, mean and variance are equal, in binomial, variance is (1-p) time the mean\""
   ]
  },
  {
   "cell_type": "code",
   "execution_count": null,
   "id": "f5adf1a3",
   "metadata": {},
   "outputs": [],
   "source": [
    "#ques 10\n",
    "\"Least frequent data appear at both ends of mean in normal dist.\""
   ]
  },
  {
   "cell_type": "code",
   "execution_count": null,
   "id": "63b223a1",
   "metadata": {},
   "outputs": [],
   "source": []
  },
  {
   "cell_type": "code",
   "execution_count": null,
   "id": "b6ac6b9d",
   "metadata": {},
   "outputs": [],
   "source": []
  }
 ],
 "metadata": {
  "kernelspec": {
   "display_name": "Python 3 (ipykernel)",
   "language": "python",
   "name": "python3"
  },
  "language_info": {
   "codemirror_mode": {
    "name": "ipython",
    "version": 3
   },
   "file_extension": ".py",
   "mimetype": "text/x-python",
   "name": "python",
   "nbconvert_exporter": "python",
   "pygments_lexer": "ipython3",
   "version": "3.9.13"
  }
 },
 "nbformat": 4,
 "nbformat_minor": 5
}
