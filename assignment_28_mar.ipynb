{
 "cells": [
  {
   "cell_type": "code",
   "execution_count": 1,
   "id": "7bc4a24e",
   "metadata": {},
   "outputs": [
    {
     "name": "stdout",
     "output_type": "stream",
     "text": [
      " Ridge regression is regularization technique in which a penalty term is added to reduce overfitting. it differs from ordinary least square fitting in terms of penlaty term.\n"
     ]
    }
   ],
   "source": [
    "print(''' Ridge regression is regularization technique in which a penalty term is added to reduce overfitting. it differs from ordinary least square fitting in terms of penlaty term.''')"
   ]
  },
  {
   "cell_type": "code",
   "execution_count": 2,
   "id": "45ae8455",
   "metadata": {},
   "outputs": [
    {
     "name": "stdout",
     "output_type": "stream",
     "text": [
      "Assumptions of ridge regression is, data exhibit a linear relationship, have a constant variance and independence variables.\n"
     ]
    }
   ],
   "source": [
    "print('''Assumptions of ridge regression is, data exhibit a linear relationship, have a constant variance and independence variables.''')"
   ]
  },
  {
   "cell_type": "code",
   "execution_count": 3,
   "id": "67f4024b",
   "metadata": {},
   "outputs": [
    {
     "name": "stdout",
     "output_type": "stream",
     "text": [
      "Lamda is choosen arbitrarily then if lamda is increased, the penalty term increases and causing ridge regression coefficient reduces to zero\n",
      "\n"
     ]
    }
   ],
   "source": [
    "print('''Lamda is choosen arbitrarily then if lamda is increased, the penalty term increases and causing ridge regression coefficient reduces to zero\n",
    "''')"
   ]
  },
  {
   "cell_type": "code",
   "execution_count": 4,
   "id": "b040cd5c",
   "metadata": {},
   "outputs": [
    {
     "name": "stdout",
     "output_type": "stream",
     "text": [
      "Ridge regression can be used for feature selection.  If some of the coefficients have zero effect on prediction,  using ridge regression we can build a better model by providing Bayesian priors for regression coefficients.\n"
     ]
    }
   ],
   "source": [
    "print('''Ridge regression can be used for feature selection.  If some of the coefficients have zero effect on prediction,  using ridge regression we can build a better model by providing Bayesian priors for regression coefficients.''')"
   ]
  },
  {
   "cell_type": "code",
   "execution_count": 5,
   "id": "c612de5a",
   "metadata": {},
   "outputs": [
    {
     "name": "stdout",
     "output_type": "stream",
     "text": [
      "Ridge regression perform better in presence of multicollinearity\n"
     ]
    }
   ],
   "source": [
    "print(\"Ridge regression perform better in presence of multicollinearity\")"
   ]
  },
  {
   "cell_type": "code",
   "execution_count": 6,
   "id": "8d6c785e",
   "metadata": {},
   "outputs": [
    {
     "name": "stdout",
     "output_type": "stream",
     "text": [
      "Ridge regression can't handle both continous and categorical variable. It can be used only for continos variable.\n"
     ]
    }
   ],
   "source": [
    "print(\"Ridge regression can't handle both continous and categorical variable. It can be used only for continos variable.\")"
   ]
  },
  {
   "cell_type": "code",
   "execution_count": 7,
   "id": "3a75d3da",
   "metadata": {},
   "outputs": [
    {
     "name": "stdout",
     "output_type": "stream",
     "text": [
      "Ridge regression can be used too predict the time series data.\n"
     ]
    }
   ],
   "source": [
    "print(\"Ridge regression can be used too predict the time series data.\")"
   ]
  }
 ],
 "metadata": {
  "kernelspec": {
   "display_name": "Python 3 (ipykernel)",
   "language": "python",
   "name": "python3"
  },
  "language_info": {
   "codemirror_mode": {
    "name": "ipython",
    "version": 3
   },
   "file_extension": ".py",
   "mimetype": "text/x-python",
   "name": "python",
   "nbconvert_exporter": "python",
   "pygments_lexer": "ipython3",
   "version": "3.9.13"
  }
 },
 "nbformat": 4,
 "nbformat_minor": 5
}
