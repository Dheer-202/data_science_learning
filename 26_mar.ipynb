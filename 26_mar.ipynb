{
 "cells": [
  {
   "cell_type": "code",
   "execution_count": 1,
   "id": "95281cd3",
   "metadata": {},
   "outputs": [
    {
     "name": "stdout",
     "output_type": "stream",
     "text": [
      "The difference is that in simple regression there is only one independent parametre while in multiple linear regresion there are many independent varialbles.\n"
     ]
    }
   ],
   "source": [
    "#ques 1\n",
    "print(\"The difference is that in simple regression there is only one independent parametre while in multiple linear regresion there are many independent varialbles.\")"
   ]
  },
  {
   "cell_type": "code",
   "execution_count": 2,
   "id": "927356ec",
   "metadata": {},
   "outputs": [
    {
     "name": "stdout",
     "output_type": "stream",
     "text": [
      "There ar five assumptions of linear regression:\n",
      "1. There is a linear relationship between the predictors (x) and the outcome (y)\n",
      "2. Predictors (x) are independent and observed with negligible error\n",
      "3. Residual Errors have a mean value of zero\n",
      "4. Residual Errors have constant variance\n",
      "5. Residual Errors are independent from each other and predictors (x)\n"
     ]
    }
   ],
   "source": [
    "#Ans 2\n",
    "print('''There ar five assumptions of linear regression:\n",
    "1. There is a linear relationship between the predictors (x) and the outcome (y)\n",
    "2. Predictors (x) are independent and observed with negligible error\n",
    "3. Residual Errors have a mean value of zero\n",
    "4. Residual Errors have constant variance\n",
    "5. Residual Errors are independent from each other and predictors (x)''')"
   ]
  },
  {
   "cell_type": "code",
   "execution_count": 8,
   "id": "a4bfad6d",
   "metadata": {},
   "outputs": [],
   "source": [
    "import pandas as pd"
   ]
  },
  {
   "cell_type": "code",
   "execution_count": 20,
   "id": "52721bae",
   "metadata": {},
   "outputs": [],
   "source": [
    "from sklearn.linear_model import LinearRegression"
   ]
  },
  {
   "cell_type": "code",
   "execution_count": 29,
   "id": "da7d918c",
   "metadata": {},
   "outputs": [
    {
     "name": "stdout",
     "output_type": "stream",
     "text": [
      "The slope is:  4.255401240925514\n",
      "The intercept is  -13.40674636536916\n"
     ]
    }
   ],
   "source": [
    "#Ans 3\n",
    "df = pd.read_excel(\"D:\\\\datasets_lab_practice\\\\stefan law.xlsx\")\n",
    "data = df[df['inc/dec']=='INC']\n",
    "encode = LinearRegression()\n",
    "encode.fit(X= df[['LOG(T)']], y = df['LOG(P)'])\n",
    "print(\"The slope is: \",encode.coef_[0])\n",
    "print(\"The intercept is \", encode.intercept_)"
   ]
  },
  {
   "cell_type": "code",
   "execution_count": 30,
   "id": "41a033ca",
   "metadata": {},
   "outputs": [
    {
     "name": "stdout",
     "output_type": "stream",
     "text": [
      "Multiple linear regression fit the many independent parametre with one output depending on slope. It is different from linear regression as there is only one independent feature.\n"
     ]
    }
   ],
   "source": [
    "#Ans 4\n",
    "print(\"Multiple linear regression fit the many independent parametre with one output depending on slope. It is different from linear regression as there is only one independent feature.\")"
   ]
  },
  {
   "cell_type": "code",
   "execution_count": 31,
   "id": "10f1d791",
   "metadata": {},
   "outputs": [
    {
     "name": "stdout",
     "output_type": "stream",
     "text": [
      "Multicollinearity is a statistical concept in which many independent varialble are highly correleated with each other. we can detect them by calculating the correlation coefficient between them.\n"
     ]
    }
   ],
   "source": [
    "#Ans 5\n",
    "print(\"Multicollinearity is a statistical concept in which many independent varialble are highly correleated with each other. we can detect them by calculating the correlation coefficient between them.\")"
   ]
  },
  {
   "cell_type": "code",
   "execution_count": 32,
   "id": "8da3c263",
   "metadata": {},
   "outputs": [
    {
     "name": "stdout",
     "output_type": "stream",
     "text": [
      "In polynomial regression, the relation of output with independent variable is not of degree 1, while in Linear regression, it is 1.\n"
     ]
    }
   ],
   "source": [
    "#Ans 6\n",
    "print(\"In polynomial regression, the relation of output with independent variable is not of degree 1, while in Linear regression, it is 1.\")"
   ]
  },
  {
   "cell_type": "code",
   "execution_count": 1,
   "id": "bd26e9ae",
   "metadata": {},
   "outputs": [
    {
     "name": "stdout",
     "output_type": "stream",
     "text": [
      "When there is no linear relationship between input and output variables then polynomial regression is used\n"
     ]
    }
   ],
   "source": [
    "#Ans 8\n",
    "print(\"When there is no linear relationship between input and output variables then polynomial regression is used\")"
   ]
  },
  {
   "cell_type": "code",
   "execution_count": null,
   "id": "04b1795a",
   "metadata": {},
   "outputs": [],
   "source": []
  },
  {
   "cell_type": "code",
   "execution_count": null,
   "id": "add347a4",
   "metadata": {},
   "outputs": [],
   "source": []
  }
 ],
 "metadata": {
  "kernelspec": {
   "display_name": "Python 3 (ipykernel)",
   "language": "python",
   "name": "python3"
  },
  "language_info": {
   "codemirror_mode": {
    "name": "ipython",
    "version": 3
   },
   "file_extension": ".py",
   "mimetype": "text/x-python",
   "name": "python",
   "nbconvert_exporter": "python",
   "pygments_lexer": "ipython3",
   "version": "3.9.13"
  }
 },
 "nbformat": 4,
 "nbformat_minor": 5
}
