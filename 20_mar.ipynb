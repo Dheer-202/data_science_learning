{
 "cells": [
  {
   "cell_type": "code",
   "execution_count": 1,
   "id": "66d58cc0",
   "metadata": {},
   "outputs": [
    {
     "name": "stdout",
     "output_type": "stream",
     "text": [
      "Data encoding is technique used to convert categorical variables into numerical vlaues. It is very useful in data science as algorithms only take numericla values not categorical variables.\n"
     ]
    }
   ],
   "source": [
    "#Ans1\n",
    "print(\"Data encoding is technique used to convert categorical variables into numerical vlaues. It is very useful in data science as algorithms only take numericla values not categorical variables.\")"
   ]
  },
  {
   "cell_type": "code",
   "execution_count": 9,
   "id": "bae62ac1",
   "metadata": {},
   "outputs": [
    {
     "name": "stdout",
     "output_type": "stream",
     "text": [
      "Nominal encoding is data encoding type which converts a categorical variable into matrix of binary values.\n"
     ]
    },
    {
     "data": {
      "text/plain": [
       "array([[1., 0., 0., 0.],\n",
       "       [0., 1., 0., 0.],\n",
       "       [0., 0., 1., 0.],\n",
       "       [0., 0., 0., 1.]])"
      ]
     },
     "execution_count": 9,
     "metadata": {},
     "output_type": "execute_result"
    }
   ],
   "source": [
    "#Ans 2\n",
    "print('Nominal encoding is data encoding type which converts a categorical variable into matrix of binary values.')\n",
    "import pandas as pd\n",
    "import numpy as np\n",
    "df = pd.DataFrame(['A','B','C','D'],columns=['Values'])\n",
    "from sklearn.preprocessing import OneHotEncoder\n",
    "encode = OneHotEncoder()\n",
    "encode.fit_transform(df).toarray()"
   ]
  },
  {
   "cell_type": "code",
   "execution_count": 10,
   "id": "af2a4df8",
   "metadata": {},
   "outputs": [
    {
     "name": "stdout",
     "output_type": "stream",
     "text": [
      "Onehot encoding and Nominal encoding is same as they are name of same technique.\n"
     ]
    }
   ],
   "source": [
    "#Ans 3\n",
    "print(\"Onehot encoding and Nominal encoding is same as they are name of same technique.\")"
   ]
  },
  {
   "cell_type": "code",
   "execution_count": 11,
   "id": "631f96fa",
   "metadata": {},
   "outputs": [
    {
     "name": "stdout",
     "output_type": "stream",
     "text": [
      "I will use label encoding ,if there is no order, to give each variable a unique value. This will be best as there is no order and to reduce size of sparse matrix. \n"
     ]
    }
   ],
   "source": [
    "#Ans 4\n",
    "print(\"I will use label encoding ,if there is no order, to give each variable a unique value. This will be best as there is no order and to reduce size of sparse matrix. \")"
   ]
  },
  {
   "cell_type": "code",
   "execution_count": 12,
   "id": "fac4a69c",
   "metadata": {},
   "outputs": [
    {
     "data": {
      "text/plain": [
       "'Since there are two columns of 1000 rows. So, to encode first column, we will need 1000 new columns. Similarly to encode seccond column, we will need 1000 more columns. Hence, TOtal of 2000 new columns will be created.'"
      ]
     },
     "execution_count": 12,
     "metadata": {},
     "output_type": "execute_result"
    }
   ],
   "source": [
    "#Ans 5\n",
    "'''Since there are two columns of 1000 rows. So, to encode first column, we will need 1000 new columns. Similarly to encode seccond column, we will need 1000 more columns. Hence, TOtal of 2000 new columns will be created.'''"
   ]
  },
  {
   "cell_type": "code",
   "execution_count": 13,
   "id": "20590cab",
   "metadata": {},
   "outputs": [
    {
     "name": "stdout",
     "output_type": "stream",
     "text": [
      " We can use label encoding here. As there is no order in species, diet, and habitat. With that on using onehot encoding, we will get many columns of encoded information.\n"
     ]
    }
   ],
   "source": [
    "#Ans 6\n",
    "print(''' We can use label encoding here. As there is no order in species, diet, and habitat. With that on using onehot encoding, we will get many columns of encoded information.''')"
   ]
  },
  {
   "cell_type": "code",
   "execution_count": 14,
   "id": "507208c6",
   "metadata": {},
   "outputs": [
    {
     "name": "stdout",
     "output_type": "stream",
     "text": [
      "For gender, binary enccoding will be used. Age is a numerical value, So no encoding is required. For contract type we can use Nominal encoding. monthly charges and tenure is also numerical variable.\n"
     ]
    }
   ],
   "source": [
    "#ans 7\n",
    "print(\"For gender, binary enccoding will be used. Age is a numerical value, So no encoding is required. For contract type we can use Nominal encoding. monthly charges and tenure is also numerical variable.\")"
   ]
  }
 ],
 "metadata": {
  "kernelspec": {
   "display_name": "Python 3 (ipykernel)",
   "language": "python",
   "name": "python3"
  },
  "language_info": {
   "codemirror_mode": {
    "name": "ipython",
    "version": 3
   },
   "file_extension": ".py",
   "mimetype": "text/x-python",
   "name": "python",
   "nbconvert_exporter": "python",
   "pygments_lexer": "ipython3",
   "version": "3.9.13"
  }
 },
 "nbformat": 4,
 "nbformat_minor": 5
}
