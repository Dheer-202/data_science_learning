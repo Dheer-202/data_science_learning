{
 "cells": [
  {
   "cell_type": "code",
   "execution_count": null,
   "id": "271aa76c",
   "metadata": {},
   "outputs": [],
   "source": [
    "import pandas as pd\n",
    "course_name = ['Data Science', 'Machine Learning', 'Big Data', 'Data Engineer']\n",
    "duration = [2,3,6,4]\n",
    "df = pd.DataFrame(data = {'course_name': course_name, 'duration' : duration})"
   ]
  },
  {
   "cell_type": "code",
   "execution_count": null,
   "id": "e0938ef5",
   "metadata": {},
   "outputs": [],
   "source": [
    "df"
   ]
  },
  {
   "cell_type": "code",
   "execution_count": null,
   "id": "a0e5bf77",
   "metadata": {},
   "outputs": [],
   "source": [
    "#ques 1\n",
    "df.iloc[1]"
   ]
  },
  {
   "cell_type": "code",
   "execution_count": null,
   "id": "78bd1c25",
   "metadata": {},
   "outputs": [],
   "source": [
    "#ques2\n",
    "print(\"the difference between loc and iloc is that loc funtion uses coloumn name for indexing while iloc function uses inbuilt number indexes for indexing.\")"
   ]
  },
  {
   "cell_type": "code",
   "execution_count": null,
   "id": "e76b0b14",
   "metadata": {},
   "outputs": [],
   "source": [
    "#ques3\n",
    "print(\"iloc fucntion use inbuilt indexes for indexing the dataframe while loc use coloumn name to index dataframe.\")"
   ]
  },
  {
   "cell_type": "code",
   "execution_count": null,
   "id": "1221d757",
   "metadata": {},
   "outputs": [],
   "source": [
    "#ques 3\n",
    "new_df= df.reindex([3,0,1,2])\n",
    "print(new_df.loc[0])\n",
    "print(new_df.iloc[3])\n",
    "\n",
    "print(\"The difference I observe is that For indexing rows, loc function is counting index from 0 while iloc is counting from 1. hence for number 2, loc is giving output of 3rd row while loc is giving outout of 2nd row. In both cases they are using the  index numbers we provided by reindex function.\")"
   ]
  },
  {
   "cell_type": "code",
   "execution_count": null,
   "id": "5f95da9a",
   "metadata": {},
   "outputs": [],
   "source": [
    "import pandas as pd\n",
    "import numpy as np\n",
    "columns = ['column_1', 'column_2', 'column_3', 'column_4', 'column_5', 'column_6']\n",
    "indices = [1,2,3,4,5,6]\n",
    "#Creating a dataframe:\n",
    "df1 = pd.DataFrame(np.random.rand(6,6), columns = columns, index = indices)"
   ]
  },
  {
   "cell_type": "code",
   "execution_count": null,
   "id": "415a893c",
   "metadata": {},
   "outputs": [],
   "source": [
    "df1"
   ]
  },
  {
   "cell_type": "code",
   "execution_count": null,
   "id": "f7e40910",
   "metadata": {},
   "outputs": [],
   "source": [
    "#quest 4\n",
    "print(df1.mean())\n",
    "print(df1['column_2'].std())"
   ]
  },
  {
   "cell_type": "code",
   "execution_count": null,
   "id": "fb8bf2f6",
   "metadata": {},
   "outputs": [],
   "source": [
    "df1['column_2']"
   ]
  },
  {
   "cell_type": "code",
   "execution_count": null,
   "id": "25a8fe7f",
   "metadata": {},
   "outputs": [],
   "source": [
    "df1['column_2'][1]='s'\n",
    "df1['column_2'].mean()"
   ]
  },
  {
   "cell_type": "code",
   "execution_count": null,
   "id": "7945426b",
   "metadata": {},
   "outputs": [],
   "source": [
    "#quest 5\n",
    "print(\"we will get the error because mean of string value is not defined. or we cant find mean of string values\")"
   ]
  },
  {
   "cell_type": "code",
   "execution_count": null,
   "id": "3c587f87",
   "metadata": {},
   "outputs": [],
   "source": [
    "#ques \n",
    "print(\"window function are used to operate some functions on few length of data fro dataframe in rolling fashion like if it is defined for first 5 data of dataframe then it will first operate on 5th data and then on 6th data....\")"
   ]
  },
  {
   "cell_type": "code",
   "execution_count": null,
   "id": "6425cb8c",
   "metadata": {},
   "outputs": [],
   "source": [
    "#ques 6\n",
    "gd = pd.date_range('2023-05-02','2023-06-08')"
   ]
  },
  {
   "cell_type": "code",
   "execution_count": null,
   "id": "07476c3e",
   "metadata": {},
   "outputs": [],
   "source": [
    "g = open('data_st.csv', \"w\")\n",
    "g.write(\"Student ID,Test Score\\n\")\n",
    "g.write('2,90\\n')\n",
    "g.write('3,80\\n')\n",
    "g.write('4,75\\n')\n",
    "g.write('5,85\\n')\n",
    "g.write('6,82\\n')\n",
    "g.write('7,78\\n')\n",
    "g.write('8,85\\n')\n",
    "g.write('9,90\\n')\n",
    "g.write('10,85\\n')\n",
    "g.close()"
   ]
  },
  {
   "cell_type": "code",
   "execution_count": null,
   "id": "5dcc0d9f",
   "metadata": {},
   "outputs": [],
   "source": [
    "#ques 11\n",
    "df= pd.read_csv('data_st.csv')\n",
    "df['Test Score'].mean()\n",
    "df['Test Score'].median()\n",
    "df['Test Score'].mode()\n",
    "stat= pd.DataFrame({'mean':df['Test Score'].mean(), 'median':df['Test Score'].median(),'mode':df['Test Score'].mode()})\n",
    "stat = stat.T"
   ]
  },
  {
   "cell_type": "code",
   "execution_count": null,
   "id": "d96fa388",
   "metadata": {},
   "outputs": [],
   "source": [
    "stat"
   ]
  },
  {
   "cell_type": "code",
   "execution_count": null,
   "id": "51fd15e3",
   "metadata": {},
   "outputs": [],
   "source": [
    "#ques 10\n",
    "fd = pd.read_csv(\"https://raw.githubusercontent.com/dotnet/samples/main/machine-learning/tutorials/ProductSalesAnomalyDetection/Data/product-sales.csv\")\n",
    "fd.plot.bar()"
   ]
  },
  {
   "cell_type": "code",
   "execution_count": null,
   "id": "151c05cf",
   "metadata": {},
   "outputs": [],
   "source": []
  },
  {
   "cell_type": "code",
   "execution_count": null,
   "id": "8641910b",
   "metadata": {},
   "outputs": [],
   "source": []
  },
  {
   "cell_type": "code",
   "execution_count": null,
   "id": "07d3416e",
   "metadata": {},
   "outputs": [],
   "source": []
  }
 ],
 "metadata": {
  "kernelspec": {
   "display_name": "Python 3 (ipykernel)",
   "language": "python",
   "name": "python3"
  },
  "language_info": {
   "codemirror_mode": {
    "name": "ipython",
    "version": 3
   },
   "file_extension": ".py",
   "mimetype": "text/x-python",
   "name": "python",
   "nbconvert_exporter": "python",
   "pygments_lexer": "ipython3",
   "version": "3.9.13"
  }
 },
 "nbformat": 4,
 "nbformat_minor": 5
}
