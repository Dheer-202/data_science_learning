{
 "cells": [
  {
   "cell_type": "code",
   "execution_count": 2,
   "id": "db01ad1b",
   "metadata": {},
   "outputs": [],
   "source": [
    "import pandas as pd\n",
    "import numpy as np\n",
    "import scipy.stats as stt"
   ]
  },
  {
   "cell_type": "code",
   "execution_count": 3,
   "id": "21b8ee20",
   "metadata": {},
   "outputs": [
    {
     "name": "stdout",
     "output_type": "stream",
     "text": [
      "The popullation mean lies in range of (40.200180077299734, 59.799819922700266)\n"
     ]
    }
   ],
   "source": [
    "#ques 1 \n",
    "sample_mean = 50\n",
    "sample_std= 5\n",
    "z_val = stt.norm.ppf(0.975)\n",
    "pop_mean = (sample_mean-sample_std*z_val,sample_mean+sample_std*z_val)\n",
    "print(\"The popullation mean lies in range of\",pop_mean)"
   ]
  },
  {
   "cell_type": "code",
   "execution_count": 78,
   "id": "6a071186",
   "metadata": {},
   "outputs": [
    {
     "name": "stdout",
     "output_type": "stream",
     "text": [
      "\n",
      "Null hypothesis: The observed data match the expected data\n",
      "Alterate hypothesis: The observed data do not match the expected data\n",
      "\n",
      "we fail to reject null hypothesis with significance level 0.05.\n"
     ]
    }
   ],
   "source": [
    "# ques 2\n",
    "observed_data = pd.DataFrame({'color': ['blue', 'green', 'orange', 'red', 'yellow', 'brown'], 'percentage': [24,16,20,13,14,13]})\n",
    "expected_data = pd.DataFrame({'color': ['blue', 'green', 'orange', 'red', 'yellow', 'brown'], 'percentage': [20,20,20,10,10,20]})\n",
    "chi_square_statistics = (((expected_data['percentage']-observed_data['percentage'])**2)/expected_data['percentage']).sum()\n",
    "dof = len(observed_data['color'])-1\n",
    "decision_boundary = stt.chi2.ppf(0.95, df = dof)\n",
    "print('''\n",
    "Null hypothesis: The observed data match the expected data\n",
    "Alterate hypothesis: The observed data do not match the expected data\n",
    "''')\n",
    "if chi_square_statistics>decision_boundary:\n",
    "    print(\"We reject the null hypothesis with significance level 0.05.\")\n",
    "else:\n",
    "    print(\"we fail to reject null hypothesis with significance level 0.05.\")"
   ]
  },
  {
   "cell_type": "code",
   "execution_count": 5,
   "id": "8d2bb19c",
   "metadata": {},
   "outputs": [
    {
     "name": "stdout",
     "output_type": "stream",
     "text": [
      "The chi square statistics for the data is 11.916666666666666\n"
     ]
    }
   ],
   "source": [
    "#ques 3 \n",
    "data = pd.DataFrame({'group1': [20,10,15], 'group2': [15,25,20]}, index = ['outcome1', 'outcome2', 'outcome3'])\n",
    "chi2_statistics = (((data['group1']-data['group2'])**2)/data['group2']).sum()\n",
    "print(\"The chi square statistics for the data is\", chi2_statistics)"
   ]
  },
  {
   "cell_type": "code",
   "execution_count": 6,
   "id": "a8e12181",
   "metadata": {},
   "outputs": [
    {
     "name": "stdout",
     "output_type": "stream",
     "text": [
      "Distribution of population is binomial with options smokinng or not smoking.\n"
     ]
    },
    {
     "data": {
      "text/plain": [
       "(45.7579327343254, 74.24206726567459)"
      ]
     },
     "execution_count": 6,
     "metadata": {},
     "output_type": "execute_result"
    }
   ],
   "source": [
    "#ques 4 \n",
    "sample_n = 500\n",
    "smoke_n = 60\n",
    "p=smoke_n/sample_n\n",
    "std = np.sqrt(sample_n*p*(1-p))\n",
    "print('''Distribution of population is binomial with options smokinng or not smoking.''')\n",
    "z_statistics = 1.96\n",
    "true_pro = (smoke_n-z_statistics*std, smoke_n+z_statistics*std)\n",
    "true_pro"
   ]
  },
  {
   "cell_type": "code",
   "execution_count": 7,
   "id": "bd3bc8fc",
   "metadata": {},
   "outputs": [
    {
     "data": {
      "text/plain": [
       "(59.621381213464794, 90.3786187865352)"
      ]
     },
     "execution_count": 7,
     "metadata": {},
     "output_type": "execute_result"
    }
   ],
   "source": [
    "#ques 5\n",
    "z_score = stt.norm.ppf(0.90)\n",
    "mean = 75\n",
    "std = 12\n",
    "confidence_interval = (mean-std*z_score, mean+std*z_score)\n",
    "confidence_interval"
   ]
  },
  {
   "cell_type": "code",
   "execution_count": 12,
   "id": "a252ed7a",
   "metadata": {},
   "outputs": [
    {
     "data": {
      "text/plain": [
       "<matplotlib.collections.PathCollection at 0x1c89179f760>"
      ]
     },
     "execution_count": 12,
     "metadata": {},
     "output_type": "execute_result"
    },
    {
     "data": {
      "image/png": "[encoded data removed]",
      "text/plain": [
       "<Figure size 640x480 with 1 Axes>"
      ]
     },
     "metadata": {},
     "output_type": "display_data"
    }
   ],
   "source": [
    "#ques 6\n",
    "x = np.linspace(0,100,500)\n",
    "y = stt.chi2.pdf(x=x, df = 15)\n",
    "import matplotlib.pyplot as plt\n",
    "plt.scatter(x,y)"
   ]
  },
  {
   "cell_type": "code",
   "execution_count": 30,
   "id": "0a81c610",
   "metadata": {},
   "outputs": [
    {
     "name": "stdout",
     "output_type": "stream",
     "text": [
      "The confidence interval is, (439.3051576779699, 520.6948423220301)\n"
     ]
    }
   ],
   "source": [
    "#ques 7\n",
    "sample_n1 = 1000\n",
    "coke_n = 520\n",
    "pepsi_n = 480\n",
    "probability_q = coke_n/sample_n1\n",
    "probability_p= pepsi_n/sample_n1\n",
    "std_p=np.sqrt(sample_n1*probability_p*probability_q)\n",
    "\n",
    "mean_p = sample_n1*probability_p\n",
    "z_range = stt.norm.ppf(0.995)\n",
    "con_int = (mean_p-std_p*z_range,mean_p+std_p*z_range)\n",
    "print(\"The confidence interval is,\",con_int)"
   ]
  },
  {
   "cell_type": "code",
   "execution_count": 41,
   "id": "da26bdaf",
   "metadata": {},
   "outputs": [
    {
     "name": "stdout",
     "output_type": "stream",
     "text": [
      "\n",
      "H0: Coin is fair.\n",
      "H1: Coin is biased.\n",
      "\n",
      "Null hypothesis is acccepted. Coinn is fair.\n"
     ]
    }
   ],
   "source": [
    "#ques 8\n",
    "print('''\n",
    "H0: Coin is fair.\n",
    "H1: Coin is biased.\n",
    "''')\n",
    "flip_n = 100\n",
    "tail_n = 45\n",
    "haid_n = 55\n",
    "average_haid = 50\n",
    "p_prob = haid_n/flip_n\n",
    "q_prob = tail_n/flip_n\n",
    "std_coin = np.sqrt(flip_n*p_prob*q_prob)\n",
    "significance_val = stt.norm.ppf(0.975)\n",
    "z_stat = ((haid_n-average_haid)/std_coin)\n",
    "if z_stat<significance_val:\n",
    "    print(\"Null hypothesis is acccepted. Coinn is fair.\")\n",
    "else:\n",
    "    print(\"Coin is biased\")"
   ]
  },
  {
   "cell_type": "code",
   "execution_count": 53,
   "id": "1ef1ea65",
   "metadata": {},
   "outputs": [
    {
     "data": {
      "text/plain": [
       "<matplotlib.collections.PathCollection at 0x1c892fab160>"
      ]
     },
     "execution_count": 53,
     "metadata": {},
     "output_type": "execute_result"
    },
    {
     "data": {
      "image/png": "[encoded data removed]",
      "text/plain": [
       "<Figure size 640x480 with 1 Axes>"
      ]
     },
     "metadata": {},
     "output_type": "display_data"
    }
   ],
   "source": [
    "#ques 9\n",
    "x = np.linspace(-10,10,500)\n",
    "y = stt.t.pdf(x = x,df = 30)\n",
    "plt.scatter(x,y)"
   ]
  },
  {
   "cell_type": "code",
   "execution_count": 67,
   "id": "d698af9c",
   "metadata": {},
   "outputs": [
    {
     "data": {
      "text/plain": [
       "0.5"
      ]
     },
     "execution_count": 67,
     "metadata": {},
     "output_type": "execute_result"
    }
   ],
   "source": [
    "stt.t.cdf(0,30)"
   ]
  },
  {
   "cell_type": "code",
   "execution_count": 75,
   "id": "865b6282",
   "metadata": {},
   "outputs": [
    {
     "data": {
      "text/plain": [
       "6.693527296961538e-17"
      ]
     },
     "execution_count": 75,
     "metadata": {},
     "output_type": "execute_result"
    }
   ],
   "source": [
    "stt.t.ppf(0.5,30)"
   ]
  },
  {
   "cell_type": "code",
   "execution_count": 77,
   "id": "f18daa7e",
   "metadata": {},
   "outputs": [
    {
     "name": "stdout",
     "output_type": "stream",
     "text": [
      "The population mean is significantly differnet than sample mean.\n"
     ]
    }
   ],
   "source": [
    "#ques 11\n",
    "sample_n2 = 30\n",
    "sample_mean = 72\n",
    "sample_std = 10\n",
    "mu = 70\n",
    "statistics = stt.t.ppf(0.5,30)\n",
    "T_stat = (sample_mean-mu)/sample_std\n",
    "\n",
    "if T_stat<statistics:\n",
    "    print(\"The population mean is not different than sample mean.\")\n",
    "else:\n",
    "    print(\"The population mean is significantly differnet than sample mean.\")"
   ]
  },
  {
   "cell_type": "code",
   "execution_count": null,
   "id": "1ebfb8e2",
   "metadata": {},
   "outputs": [],
   "source": []
  },
  {
   "cell_type": "code",
   "execution_count": null,
   "id": "15df2952",
   "metadata": {},
   "outputs": [],
   "source": []
  },
  {
   "cell_type": "code",
   "execution_count": null,
   "id": "aaeca63d",
   "metadata": {},
   "outputs": [],
   "source": []
  },
  {
   "cell_type": "code",
   "execution_count": null,
   "id": "43fd8a97",
   "metadata": {},
   "outputs": [],
   "source": []
  },
  {
   "cell_type": "code",
   "execution_count": null,
   "id": "f4a39d20",
   "metadata": {},
   "outputs": [],
   "source": []
  },
  {
   "cell_type": "code",
   "execution_count": null,
   "id": "4b757fc3",
   "metadata": {},
   "outputs": [],
   "source": []
  },
  {
   "cell_type": "code",
   "execution_count": null,
   "id": "61ec2e85",
   "metadata": {},
   "outputs": [],
   "source": []
  }
 ],
 "metadata": {
  "kernelspec": {
   "display_name": "Python 3 (ipykernel)",
   "language": "python",
   "name": "python3"
  },
  "language_info": {
   "codemirror_mode": {
    "name": "ipython",
    "version": 3
   },
   "file_extension": ".py",
   "mimetype": "text/x-python",
   "name": "python",
   "nbconvert_exporter": "python",
   "pygments_lexer": "ipython3",
   "version": "3.9.13"
  }
 },
 "nbformat": 4,
 "nbformat_minor": 5
}
