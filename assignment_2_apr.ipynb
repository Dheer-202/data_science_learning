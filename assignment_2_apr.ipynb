{
 "cells": [
  {
   "cell_type": "code",
   "execution_count": 11,
   "id": "bd830a59",
   "metadata": {},
   "outputs": [
    {
     "name": "stdout",
     "output_type": "stream",
     "text": [
      "\n",
      "GridSearchCV function gives the best parametres for attributes in model function to make highest accuracy of model.\n",
      "it chooses each permutation and combination of parametres and their values, then fit the model and check the accuracy of each permutatiob. Hence, it gives the best parametres.\n",
      "\n"
     ]
    }
   ],
   "source": [
    "print('''\n",
    "GridSearchCV function gives the best parametres for attributes in model function to make highest accuracy of model.\n",
    "it chooses each permutation and combination of parametres and their values, then fit the model and check the accuracy of each permutatiob. Hence, it gives the best parametres.\n",
    "''')"
   ]
  },
  {
   "cell_type": "code",
   "execution_count": 12,
   "id": "205cdeb2",
   "metadata": {},
   "outputs": [
    {
     "name": "stdout",
     "output_type": "stream",
     "text": [
      "\n",
      "GridSearchCV selects each permutaion to give best parametres while randomized search CV selects some permutation at random and give highest accuracy parametres out of them.\n",
      "When there is a large number of datasets and much permutation are forming then we can use the randomized search CV. \n",
      "\n"
     ]
    }
   ],
   "source": [
    "print('''\n",
    "GridSearchCV selects each permutaion to give best parametres while randomized search CV selects some permutation at random and give highest accuracy parametres out of them.\n",
    "When there is a large number of datasets and much permutation are forming then we can use the randomized search CV. \n",
    "''')"
   ]
  },
  {
   "cell_type": "code",
   "execution_count": 13,
   "id": "676ba80f",
   "metadata": {},
   "outputs": [
    {
     "name": "stdout",
     "output_type": "stream",
     "text": [
      "\n",
      "Data Leakage is term given to condition when some training data is leaked to training data. This will results in bias of model and will make inaccurate predictions.\n",
      "\n"
     ]
    }
   ],
   "source": [
    "print('''\n",
    "Data Leakage is term given to condition when some training data is leaked to training data. This will results in bias of model and will make inaccurate predictions.\n",
    "''')"
   ]
  },
  {
   "cell_type": "code",
   "execution_count": 14,
   "id": "c9843ecc",
   "metadata": {},
   "outputs": [
    {
     "name": "stdout",
     "output_type": "stream",
     "text": [
      "\n",
      "We can minimize the data leakage by separating the training and test data from the beginig before doing any preprocessing\n",
      "\n"
     ]
    }
   ],
   "source": [
    "print('''\n",
    "We can minimize the data leakage by separating the training and test data from the beginig before doing any preprocessing\n",
    "''')"
   ]
  },
  {
   "cell_type": "code",
   "execution_count": 15,
   "id": "dc1dbfe6",
   "metadata": {},
   "outputs": [
    {
     "name": "stdout",
     "output_type": "stream",
     "text": [
      "\n",
      "Confusion matrix is an n*n matrix used to evaluate performance of machine learning models. this matrix shows number of each correctly or incorrectly predicted outputs. \n",
      "\n"
     ]
    }
   ],
   "source": [
    "print('''\n",
    "Confusion matrix is an n*n matrix used to evaluate performance of machine learning models. this matrix shows number of each correctly or incorrectly predicted outputs. \n",
    "''')"
   ]
  },
  {
   "cell_type": "code",
   "execution_count": 16,
   "id": "1aa2c1b2",
   "metadata": {},
   "outputs": [
    {
     "name": "stdout",
     "output_type": "stream",
     "text": [
      "\n",
      "Precision measures the accuracy of positive predictions, while recall measures the completeness of positive predictions.\n",
      "\n",
      "\n"
     ]
    }
   ],
   "source": [
    "print('''\n",
    "Precision measures the accuracy of positive predictions, while recall measures the completeness of positive predictions.\n",
    "\n",
    "''')"
   ]
  },
  {
   "cell_type": "code",
   "execution_count": 17,
   "id": "066a980a",
   "metadata": {},
   "outputs": [
    {
     "name": "stdout",
     "output_type": "stream",
     "text": [
      "\n",
      "If the number of false positives is much more than false negatives and Correctly predicted values then it is type 1 error.\n",
      "If the number of false negatives is much more than false positive then it is type 2 error.\n",
      "\n"
     ]
    }
   ],
   "source": [
    "print('''\n",
    "If the number of false positives is much more than false negatives and Correctly predicted values then it is type 1 error.\n",
    "If the number of false negatives is much more than false positive then it is type 2 error.\n",
    "''')\n"
   ]
  },
  {
   "cell_type": "code",
   "execution_count": 18,
   "id": "755ea6c9",
   "metadata": {},
   "outputs": [
    {
     "name": "stdout",
     "output_type": "stream",
     "text": [
      "\n",
      "Some common metrics are Recall, Precision, F-beta score. \n",
      "Recall is ratio of True positive and sum of True positive and False negative. Precision is ratio of True positive and sum of True positive and False positive.\n",
      "F-beta score is (1+beta squared) times (precision*Recall)/(precisoin+recall)\n",
      "\n"
     ]
    }
   ],
   "source": [
    "print('''\n",
    "Some common metrics are Recall, Precision, F-beta score. \n",
    "Recall is ratio of True positive and sum of True positive and False negative. Precision is ratio of True positive and sum of True positive and False positive.\n",
    "F-beta score is (1+beta squared) times (precision*Recall)/(precisoin+recall)\n",
    "''')"
   ]
  },
  {
   "cell_type": "code",
   "execution_count": 19,
   "id": "c44ef0d8",
   "metadata": {},
   "outputs": [
    {
     "name": "stdout",
     "output_type": "stream",
     "text": [
      "Accuaracy is calculated by (TP+TN)/(TP+FP+TN+FN)\n"
     ]
    }
   ],
   "source": [
    "print('''Accuaracy is calculated by (TP+TN)/(TP+FP+TN+FN)''')"
   ]
  }
 ],
 "metadata": {
  "kernelspec": {
   "display_name": "Python 3 (ipykernel)",
   "language": "python",
   "name": "python3"
  },
  "language_info": {
   "codemirror_mode": {
    "name": "ipython",
    "version": 3
   },
   "file_extension": ".py",
   "mimetype": "text/x-python",
   "name": "python",
   "nbconvert_exporter": "python",
   "pygments_lexer": "ipython3",
   "version": "3.9.13"
  }
 },
 "nbformat": 4,
 "nbformat_minor": 5
}
