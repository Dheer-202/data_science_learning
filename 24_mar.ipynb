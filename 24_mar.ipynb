{
 "cells": [
  {
   "cell_type": "code",
   "execution_count": 7,
   "id": "8299158f",
   "metadata": {},
   "outputs": [
    {
     "name": "stdout",
     "output_type": "stream",
     "text": [
      "The key feture in wine quality dataset is fixed acidity,volatile acidity,citric acid,residual sugar,chlorides, free sulfur dioxide, total sulfur dioxide, density,pH, sulphates, and alcohol. \n"
     ]
    }
   ],
   "source": [
    "#Ans 1\n",
    "print(\"The key feture in wine quality dataset is fixed acidity,volatile acidity,citric acid,residual sugar,chlorides, free sulfur dioxide, total sulfur dioxide, density,pH, sulphates, and alcohol. \")"
   ]
  },
  {
   "cell_type": "code",
   "execution_count": 8,
   "id": "e109aada",
   "metadata": {},
   "outputs": [
    {
     "name": "stdout",
     "output_type": "stream",
     "text": [
      "If the missing value were more than 10, we replaced missing value by mean of that column provided distribution is normal. If the missing values of any feature is less than 10, we deleted those rows as removing few datas will not impact trainig of model while a large dataset. \n"
     ]
    }
   ],
   "source": [
    "#Ans 2\n",
    "print(\"If the missing value were more than 10, we replaced missing value by mean of that column provided distribution is normal. If the missing values of any feature is less than 10, we deleted those rows as removing few datas will not impact trainig of model while a large dataset. \")"
   ]
  },
  {
   "cell_type": "code",
   "execution_count": 9,
   "id": "600a3b5a",
   "metadata": {},
   "outputs": [
    {
     "name": "stdout",
     "output_type": "stream",
     "text": [
      "The key factors which affect student performance are gender, lunch, race ethinicity, and test preparation course.\n"
     ]
    }
   ],
   "source": [
    "#ANS 3\n",
    "print(\"The key factors which affect student performance are gender, lunch, race ethinicity, and test preparation course.\")"
   ]
  },
  {
   "cell_type": "code",
   "execution_count": 10,
   "id": "c15c3bd2",
   "metadata": {},
   "outputs": [
    {
     "name": "stdout",
     "output_type": "stream",
     "text": [
      "Gender can be encoded by binary coding or one hot encoding techniques as there are only two unique values. Similarly lunch and test preparation course can also be encoded by one hot encoding.\n",
      "Race ethinicity can encoded by target encoding with target as mean average score. Parental level of education can be encoded by ordinal encoding as degrees have a preference of order.\n"
     ]
    }
   ],
   "source": [
    "#ANS 4\n",
    "print(\"Gender can be encoded by binary coding or one hot encoding techniques as there are only two unique values. Similarly lunch and test preparation course can also be encoded by one hot encoding.\")\n",
    "print(\"Race ethinicity can encoded by target encoding with target as mean average score. Parental level of education can be encoded by ordinal encoding as degrees have a preference of order.\")"
   ]
  },
  {
   "cell_type": "code",
   "execution_count": 11,
   "id": "6e5cdaaf",
   "metadata": {},
   "outputs": [
    {
     "name": "stdout",
     "output_type": "stream",
     "text": [
      "Feature which wxhibit non normality are: volatile acidity, citric acid, free sulfur dioxide, total sulfur dioxide, alcohol, quality.\n",
      " we can improve normality of feature applying logarithmic scale, root of feature.\n"
     ]
    }
   ],
   "source": [
    "#Ans 5\n",
    "print(\"Feature which wxhibit non normality are: volatile acidity, citric acid, free sulfur dioxide, total sulfur dioxide, alcohol, quality.\")\n",
    "print(\" we can improve normality of feature applying logarithmic scale, root of feature.\")\n",
    "\n"
   ]
  },
  {
   "cell_type": "code",
   "execution_count": 12,
   "id": "d108ccfc",
   "metadata": {},
   "outputs": [
    {
     "name": "stdout",
     "output_type": "stream",
     "text": [
      "miinimum number of required principal components is 5.\n"
     ]
    }
   ],
   "source": [
    "#Ans 6\n",
    "print(\"miinimum number of required principal components is 5.\")"
   ]
  }
 ],
 "metadata": {
  "kernelspec": {
   "display_name": "Python 3 (ipykernel)",
   "language": "python",
   "name": "python3"
  },
  "language_info": {
   "codemirror_mode": {
    "name": "ipython",
    "version": 3
   },
   "file_extension": ".py",
   "mimetype": "text/x-python",
   "name": "python",
   "nbconvert_exporter": "python",
   "pygments_lexer": "ipython3",
   "version": "3.9.13"
  }
 },
 "nbformat": 4,
 "nbformat_minor": 5
}
