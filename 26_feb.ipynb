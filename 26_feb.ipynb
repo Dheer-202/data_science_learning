{
 "cells": [
  {
   "cell_type": "code",
   "execution_count": null,
   "id": "07af3fba",
   "metadata": {},
   "outputs": [],
   "source": [
    "import numpy as np"
   ]
  },
  {
   "cell_type": "code",
   "execution_count": null,
   "id": "e0ccd3e5",
   "metadata": {},
   "outputs": [],
   "source": [
    "import numpy as np\n",
    "list_ = ['1' , '2' , '3' , '4' , '5' ]\n",
    "array_list = np.array(object = list_)"
   ]
  },
  {
   "cell_type": "code",
   "execution_count": null,
   "id": "886fda01",
   "metadata": {},
   "outputs": [],
   "source": [
    "#quest 1\n",
    "print(type(list_))\n",
    "print(type(array_list))"
   ]
  },
  {
   "cell_type": "code",
   "execution_count": null,
   "id": "c70a2209",
   "metadata": {},
   "outputs": [],
   "source": [
    "#ques 2\n",
    "for i in list_:\n",
    "    print(type(i))\n",
    "for i in array_list:\n",
    "    print(type(i))"
   ]
  },
  {
   "cell_type": "code",
   "execution_count": null,
   "id": "3d7294ba",
   "metadata": {},
   "outputs": [],
   "source": [
    "\n",
    "array_list = np.array(object = list_, dtype = int)"
   ]
  },
  {
   "cell_type": "code",
   "execution_count": null,
   "id": "1a223139",
   "metadata": {},
   "outputs": [],
   "source": [
    "#ques 3\n",
    "print(\"the datatype of array_list will change to numpy.int from numpy.str. the datatype of list_ will remain same.\")\n",
    "for i in array_list:\n",
    "    print(type(i))"
   ]
  },
  {
   "cell_type": "code",
   "execution_count": null,
   "id": "fe76f76a",
   "metadata": {},
   "outputs": [],
   "source": [
    "import numpy as np\n",
    "num_list = [ [ 1 , 2 , 3 ] , [ 4 , 5 , 6 ] ]\n",
    "num_array = np.array(object = num_list)"
   ]
  },
  {
   "cell_type": "code",
   "execution_count": null,
   "id": "5ac47bdf",
   "metadata": {},
   "outputs": [],
   "source": [
    "#ques 4\n",
    "np.shape(num_array), np.size(num_array)"
   ]
  },
  {
   "cell_type": "code",
   "execution_count": null,
   "id": "5a9f1566",
   "metadata": {},
   "outputs": [],
   "source": [
    "#ques 5\n",
    "a = np.array([[0,0,0],[0,0,0],[0,0,0]])"
   ]
  },
  {
   "cell_type": "code",
   "execution_count": null,
   "id": "378dec7c",
   "metadata": {},
   "outputs": [],
   "source": [
    "a"
   ]
  },
  {
   "cell_type": "code",
   "execution_count": null,
   "id": "25718957",
   "metadata": {},
   "outputs": [],
   "source": [
    "#ques 6\n",
    "np.eye(5,5)"
   ]
  }
 ],
 "metadata": {
  "kernelspec": {
   "display_name": "Python 3 (ipykernel)",
   "language": "python",
   "name": "python3"
  },
  "language_info": {
   "codemirror_mode": {
    "name": "ipython",
    "version": 3
   },
   "file_extension": ".py",
   "mimetype": "text/x-python",
   "name": "python",
   "nbconvert_exporter": "python",
   "pygments_lexer": "ipython3",
   "version": "3.9.13"
  }
 },
 "nbformat": 4,
 "nbformat_minor": 5
}
